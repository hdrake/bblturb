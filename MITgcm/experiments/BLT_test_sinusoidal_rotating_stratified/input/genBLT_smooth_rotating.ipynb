{
 "cells": [
  {
   "cell_type": "code",
   "execution_count": 7,
   "metadata": {},
   "outputs": [],
   "source": [
    "import numpy as np\n",
    "import xarray as xr\n",
    "import matplotlib.pyplot as plt\n",
    "import matplotlib\n",
    "from matplotlib import cm\n",
    "import os, sys\n",
    "import scipy.io\n",
    "import gsw"
   ]
  },
  {
   "cell_type": "code",
   "execution_count": 8,
   "metadata": {},
   "outputs": [
    {
     "name": "stdout",
     "output_type": "stream",
     "text": [
      "../../../MITgcm/experiments/BLT_test_smooth_rotating/input/\n"
     ]
    }
   ],
   "source": [
    "exp_name = \"smooth_rotating\"\n",
    "input_path = f\"../../../MITgcm/experiments/BLT_test_{exp_name}/input/\"\n",
    "print(input_path)\n",
    "if ~os.path.exists(\"/\".join(input_path.split(\"/\")[0:-2])):\n",
    "    os.system(f\"mkdir -p {input_path}\")"
   ]
  },
  {
   "cell_type": "code",
   "execution_count": 9,
   "metadata": {},
   "outputs": [],
   "source": [
    "# Release location\n",
    "dye_loc = [-11.885, 54.21]"
   ]
  },
  {
   "cell_type": "markdown",
   "metadata": {},
   "source": [
    "## Physical parameters"
   ]
  },
  {
   "cell_type": "code",
   "execution_count": 10,
   "metadata": {},
   "outputs": [
    {
     "name": "stdout",
     "output_type": "stream",
     "text": [
      "f = 0.0001151432492635148\n",
      "Lx = 19.2, Ly = 8.0\n"
     ]
    }
   ],
   "source": [
    "# environmental parameters\n",
    "ω = 2.*np.pi/(12.*3600.)\n",
    "\n",
    "ϕdye = np.deg2rad(dye_loc[1])\n",
    "f = 4*np.pi/86400.*np.sin(ϕdye)\n",
    "f = np.round(f/ω*24.)*ω/24\n",
    "print(f\"f = {f}\")\n",
    "\n",
    "# grid param\n",
    "nx = 192\n",
    "ny = 80\n",
    "nz = 450\n",
    "\n",
    "dx = 100\n",
    "dy = 100\n",
    "dz0 = 4.\n",
    "dzmax = 100.\n",
    "nz_vary_frac = 0.75\n",
    "\n",
    "Lx = nx*dx\n",
    "Ly = ny*dy\n",
    "print(f\"Lx = {Lx*1e-3}, Ly = {Ly*1e-3}\")\n",
    "\n",
    "k0 = 5.2e-5"
   ]
  },
  {
   "cell_type": "markdown",
   "metadata": {},
   "source": [
    "#### Vertical grid"
   ]
  },
  {
   "cell_type": "code",
   "execution_count": 11,
   "metadata": {},
   "outputs": [
    {
     "data": {
      "text/plain": [
       "[<matplotlib.lines.Line2D at 0x2aab8cfe99a0>]"
      ]
     },
     "execution_count": 11,
     "metadata": {},
     "output_type": "execute_result"
    },
    {
     "data": {
      "image/png": "[encoded data removed]",
      "text/plain": [
       "<Figure size 432x288 with 1 Axes>"
      ]
     },
     "metadata": {
      "needs_background": "light"
     },
     "output_type": "display_data"
    }
   ],
   "source": [
    "nz_vary = np.int64(nz*nz_vary_frac)\n",
    "dz = dz0 * np.ones((nz))[:,np.newaxis,np.newaxis]*np.ones((nz,ny,nx))\n",
    "dz[nz_vary:,:,:] = dz0 + (dzmax-dz0)*(np.arange(0,nz-nz_vary,1.0)[:,np.newaxis,np.newaxis]/(nz-nz_vary))**2\n",
    "#dz[nz_vary:,:,:] = dz[nz_vary,0,0]*np.arange(0,nz-nz_vary,1.0)[:,np.newaxis,np.newaxis]*np.ones((nz-nz_vary,ny,nx))\n",
    "Hz = sum(dz[:,0,0])\n",
    "\n",
    "plt.figure()\n",
    "plt.plot(dz[:,0,0],np.cumsum(dz[:,0,0]),\"r-+\")"
   ]
  },
  {
   "cell_type": "code",
   "execution_count": 12,
   "metadata": {},
   "outputs": [],
   "source": [
    "g = 9.81\n",
    "α = 2e-4\n",
    "gamma = 0.\n",
    "\n",
    "T = np.zeros((nz))\n",
    "T = np.transpose(np.tile(T, (ny, nx, 1)), (2, 0, 1))\n",
    "T_rand = np.tile(np.random.normal(size=(ny, nx),scale=1.e-9)/(g*α), (nz, 1, 1))\n",
    "#T += T_rand \n",
    "\n",
    "R = np.copy(T)"
   ]
  },
  {
   "cell_type": "code",
   "execution_count": 13,
   "metadata": {},
   "outputs": [],
   "source": [
    "U0res = 0.1\n",
    "U0 = U0res*((ω**2 - f**2)/ω**2)\n",
    "ϕ = 0.\n",
    "\n",
    "U = np.zeros((nz, ny, nx)) + U0res*f/ω*np.sin(ϕ)\n",
    "V = np.zeros((nz, ny, nx)) + U0res*f/ω*np.cos(ϕ)"
   ]
  },
  {
   "cell_type": "code",
   "execution_count": 14,
   "metadata": {},
   "outputs": [],
   "source": [
    "Z = np.cumsum(dz[:, 0, 0][::-1])[::-1]"
   ]
  },
  {
   "cell_type": "code",
   "execution_count": 15,
   "metadata": {},
   "outputs": [
    {
     "data": {
      "text/plain": [
       "[<matplotlib.lines.Line2D at 0x2aab9a307910>]"
      ]
     },
     "execution_count": 15,
     "metadata": {},
     "output_type": "execute_result"
    },
    {
     "data": {
      "image/png": "[encoded data removed]",
      "text/plain": [
       "<Figure size 432x288 with 1 Axes>"
      ]
     },
     "metadata": {
      "needs_background": "light"
     },
     "output_type": "display_data"
    }
   ],
   "source": [
    "plt.plot(np.mean(U, axis=(1,2)), Z)\n",
    "plt.plot(np.mean(V, axis=(1,2)), Z)"
   ]
  },
  {
   "cell_type": "code",
   "execution_count": 16,
   "metadata": {},
   "outputs": [],
   "source": [
    "K = np.zeros((nz,ny,nx)) + k0"
   ]
  },
  {
   "cell_type": "code",
   "execution_count": 17,
   "metadata": {},
   "outputs": [],
   "source": [
    "x = np.arange(dx/2., Lx, dx)\n",
    "y = np.arange(dy/2., Ly, dy)"
   ]
  },
  {
   "cell_type": "code",
   "execution_count": 18,
   "metadata": {},
   "outputs": [],
   "source": [
    "slopeAngle = 0.\n",
    "h = 0.\n",
    "n = 5\n",
    "Hbot = h*(np.cos(n*2*np.pi*x/Lx)+1.) - Hz\n",
    "Hbot = np.tile(Hbot, (ny, 1))"
   ]
  },
  {
   "cell_type": "code",
   "execution_count": 19,
   "metadata": {},
   "outputs": [
    {
     "data": {
      "text/plain": [
       "0.0002777777777777778"
      ]
     },
     "execution_count": 19,
     "metadata": {},
     "output_type": "execute_result"
    }
   ],
   "source": [
    "tauSponge = 1./3600.\n",
    "tauSponge"
   ]
  },
  {
   "cell_type": "code",
   "execution_count": 20,
   "metadata": {},
   "outputs": [
    {
     "name": "stderr",
     "output_type": "stream",
     "text": [
      "<ipython-input-20-c3867f80ddf4>:1: MatplotlibDeprecationWarning: shading='flat' when X and Y have the same dimensions as C is deprecated since 3.3.  Either specify the corners of the quadrilaterals with X and Y, or pass shading='auto', 'nearest' or 'gouraud', or set rcParams['pcolor.shading'].  This will become an error two minor releases later.\n",
      "  plt.pcolor(x, y, Hbot)\n"
     ]
    },
    {
     "data": {
      "text/plain": [
       "<matplotlib.collections.PolyCollection at 0x2aab9d92ebb0>"
      ]
     },
     "execution_count": 20,
     "metadata": {},
     "output_type": "execute_result"
    },
    {
     "data": {
      "image/png": "[encoded data removed]",
      "text/plain": [
       "<Figure size 432x288 with 1 Axes>"
      ]
     },
     "metadata": {
      "needs_background": "light"
     },
     "output_type": "display_data"
    }
   ],
   "source": [
    "plt.pcolor(x, y, Hbot)"
   ]
  },
  {
   "cell_type": "markdown",
   "metadata": {},
   "source": [
    "#### Write init files"
   ]
  },
  {
   "cell_type": "code",
   "execution_count": 21,
   "metadata": {},
   "outputs": [],
   "source": [
    "# Reverse vertical axis so first index is at the surface and transpose axes\n",
    "U = U[::-1,:,:]\n",
    "V = V[::-1,:,:]\n",
    "T = T[::-1,:,:]\n",
    "R = R[::-1,:1,:1]\n",
    "K = K[::-1,:,:]\n",
    "\n",
    "dz = dz[::-1,:1,:1]\n",
    "\n",
    "# save input data as binary files\n",
    "newFile = open(input_path+\"U.init\", \"wb\")\n",
    "newFile.write(bytes(U.astype('>f8')))\n",
    "newFile.close()\n",
    "\n",
    "newFile = open(input_path+\"V.init\", \"wb\")\n",
    "newFile.write(bytes(V.astype('>f8')))\n",
    "newFile.close()\n",
    "\n",
    "newFile = open(input_path+\"T.init\", \"wb\")\n",
    "newFile.write(bytes(T.astype('>f8')))\n",
    "newFile.close()\n",
    "\n",
    "np.savetxt(input_path+\"R.init\", R[:,0,0], encoding=\"-ascii\", fmt='%.7e', newline=\"\\n   \")\n",
    "\n",
    "newFile = open(input_path+\"kappa.init\", \"wb\")\n",
    "newFile.write(bytes(K.astype('>f8')))\n",
    "newFile.close()\n",
    "\n",
    "newFile = open(input_path+\"topog.init\", \"wb\")\n",
    "newFile.write(bytes(Hbot[:,:].astype('>f8')))\n",
    "newFile.close()\n",
    "\n",
    "newFile = open(input_path+\"delZ.init\", \"wb\")\n",
    "newFile.write(bytes(dz[:,0,0].astype('>f8')))\n",
    "newFile.close()"
   ]
  },
  {
   "cell_type": "markdown",
   "metadata": {},
   "source": [
    "#### Final input parameter values"
   ]
  },
  {
   "cell_type": "code",
   "execution_count": 22,
   "metadata": {},
   "outputs": [
    {
     "name": "stdout",
     "output_type": "stream",
     "text": [
      "Internal wave regime:\n",
      "f 0.00012 1/s << ω = 0.00015 1/s << N = 0.0 1/s\n",
      "\n",
      "Thermal contraction coefficient is: 0.0002 (ºC)^-1$\n",
      "Temperature Lapse Rate is: Γ = 0.0 ºC/m\n",
      "Slope angle is θ = 0.0\n",
      "Barotropic tidal forcing amplitude is U0 = 0.03732638888888888 m/s\n",
      "Barotropic tidal response amplitude is U0 = 0.1 m/s\n",
      "Barotropic tidal angle (with respect to cross-canyon direction x) is 0.0 rad\n",
      "Δt < Δz/U0 = 40.0 seconds\n"
     ]
    }
   ],
   "source": [
    "print(f\"Internal wave regime:\\nf {round(f, 5)} 1/s << ω = {round(ω, 5)} 1/s << N = {round(np.sqrt(g*α*gamma), 5)} 1/s\\n\")\n",
    "print(f\"Thermal contraction coefficient is: {α} (ºC)^-1$\")\n",
    "print(f\"Temperature Lapse Rate is: Γ = {str(gamma)} ºC/m\")\n",
    "print(f\"Slope angle is θ = {slopeAngle}\")\n",
    "print(f\"Barotropic tidal forcing amplitude is U0 = {str(U0)} m/s\")\n",
    "print(f\"Barotropic tidal response amplitude is U0 = {str(U0res)} m/s\")\n",
    "print(f\"Barotropic tidal angle (with respect to cross-canyon direction x) is {ϕ} rad\")\n",
    "\n",
    "print(f\"Δt < Δz/U0 = {dz0/U0res} seconds\")"
   ]
  },
  {
   "cell_type": "code",
   "execution_count": 23,
   "metadata": {},
   "outputs": [],
   "source": [
    "import os\n",
    "os.system(f\"cp ./genBLT_{exp_name}.ipynb {input_path}\");"
   ]
  },
  {
   "cell_type": "code",
   "execution_count": null,
   "metadata": {},
   "outputs": [],
   "source": []
  }
 ],
 "metadata": {
  "kernelspec": {
   "display_name": "Python 3",
   "language": "python",
   "name": "python3"
  },
  "language_info": {
   "codemirror_mode": {
    "name": "ipython",
    "version": 3
   },
   "file_extension": ".py",
   "mimetype": "text/x-python",
   "name": "python",
   "nbconvert_exporter": "python",
   "pygments_lexer": "ipython3",
   "version": "3.9.2"
  }
 },
 "nbformat": 4,
 "nbformat_minor": 4
}
