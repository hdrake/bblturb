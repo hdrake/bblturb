{
 "cells": [
  {
   "cell_type": "markdown",
   "metadata": {},
   "source": [
    "# Solving the Phillips-Wunsch-Garrett IVP with non-constant coefficients using Dedalus"
   ]
  },
  {
   "cell_type": "code",
   "execution_count": 1,
   "metadata": {},
   "outputs": [],
   "source": [
    "%matplotlib inline\n",
    "import numpy as np\n",
    "import matplotlib.pyplot as plt\n",
    "import h5py\n",
    "from dedalus import public as de\n",
    "from dedalus.extras import flow_tools\n",
    "from dedalus.extras import plot_tools\n",
    "from dedalus.tools import post\n",
    "import pathlib\n",
    "import time\n",
    "from IPython import display\n",
    "\n",
    "import logging\n",
    "root = logging.root\n",
    "for h in root.handlers:\n",
    "    h.setLevel(\"INFO\")\n",
    "\n",
    "logger = logging.getLogger(__name__)"
   ]
  },
  {
   "cell_type": "markdown",
   "metadata": {},
   "source": [
    "# Problem formulation\n",
    "\n",
    "### Physical parameters"
   ]
  },
  {
   "cell_type": "code",
   "execution_count": 2,
   "metadata": {},
   "outputs": [],
   "source": [
    "N = 1.3e-3\n",
    "f = 0.53e-4\n",
    "\n",
    "# topographic parameters\n",
    "slopeAngle = 2.e-3\n",
    "tht = slopeAngle\n",
    "\n",
    "# mixing parameters\n",
    "d = 230\n",
    "k0 = 5.2e-5\n",
    "k1 = 1.8e-3\n",
    "Pr = 1"
   ]
  },
  {
   "cell_type": "code",
   "execution_count": 3,
   "metadata": {},
   "outputs": [],
   "source": [
    "def calc_delta():\n",
    "    return ((4*Pr**2*(k0+k1)**2) / (f**2*np.cos(tht)**2 * (1 + (N**2*np.tan(tht)**2/(f**2))*Pr)))**0.25"
   ]
  },
  {
   "cell_type": "code",
   "execution_count": 40,
   "metadata": {},
   "outputs": [
    {
     "name": "stdout",
     "output_type": "stream",
     "text": [
      "2020-01-13 15:07:50,271 pencil 0/1 INFO :: Building pencil matrix 1/1 (~100%) Elapsed: 0s, Remaining: 0s, Rate: 9.3e+00/s\n",
      "Iterations: \n"
     ]
    },
    {
     "name": "stderr",
     "output_type": "stream",
     "text": [
      "/home/hdrake/.conda/envs/bblturb/lib/python3.7/site-packages/dedalus/core/evaluator.py:533: H5pyDeprecationWarning: other_ds.dims.create_scale(ds, name) is deprecated. Use ds.make_scale(name) instead.\n",
      "  dset.dims.create_scale(scale, sn)\n",
      "/home/hdrake/.conda/envs/bblturb/lib/python3.7/site-packages/dedalus/core/evaluator.py:550: H5pyDeprecationWarning: other_ds.dims.create_scale(ds, name) is deprecated. Use ds.make_scale(name) instead.\n",
      "  dset.dims.create_scale(scale, lookup)\n"
     ]
    },
    {
     "name": "stdout",
     "output_type": "stream",
     "text": [
      "180, 360, 540, 720, 900, 1080, 1260, 1440, 1620, 1800, 1980, 2160, 2340, 2520, 2700, 2880, 3060, 3240, 3420, 3600, 3780, 3960, 4140, 4320, 4500, 4680, 4860, 5040, 5220, 5400, 5580, 5760, 5940, 6120, 6300, 6480, 6660, 6840, 7020, 7200, 7380, 7560, 7740, 7920, 8100, 8280, 8460, 8640, 8820, 9000, 9180, 9360, 9540, 9720, 9900, 10080, 10260, 10440, 10620, 10800, 10980, 11160, 11340, 11520, 11700, 11880, 12060, 12240, 12420, 12600, 12780, 12960, 13140, 13320, 13500, 13680, 13860, 14040, 14220, 14400, 14580, 14760, 14940, 15120, 15300, 15480, 15660, 15840, 16020, 16200, 16380, 16560, 16740, 16920, 17100, 17280, 17460, 17640, 17820, 18000, 18180, 18360, 18540, 18720, 18900, 19080, 19260, 19440, 19620, 19800, 19980, 20160, 20340, 20520, 20700, 20880, 21060, 21240, 21420, 21600, 21780, 21960, 22140, 22320, 22500, 22680, 22860, 23040, 23220, 23400, 23580, 23760, 23940, 24120, 24300, 24480, 24660, 24840, 25020, 25200, 25380, 25560, 25740, 25920, 26100, 26280, 26460, 26640, 26820, 27000, 27180, 27360, 27540, 27720, 27900, 28080, 28260, 28440, 28620, 28800, 28980, 29160, 29340, 29520, 29700, 29880, 30060, 30240, 30420, 30600, 30780, 30960, 31140, 31320, 31500, 31680, 31860, 32040, 32220, 32400, 32580, 32760, 32940, 33120, 33300, 33480, 33660, 33840, 34020, 34200, 34380, 34560, 34740, 34920, 35100, 35280, 35460, 35640, 35820, 36000, 36180, 36360, 36540, 36720, 36900, 37080, 37260, 37440, 37620, 37800, 37980, 38160, 38340, 38520, 38700, 38880, 39060, 39240, 39420, 39600, 39780, 39960, 40140, 40320, 40500, 40680, 40860, 41040, 41220, 41400, 41580, 41760, 41940, 42120, 42300, 42480, 42660, 42840, 43020, 43200, 43380, 43560, 43740, 43920, 44100, 44280, 44460, 44640, 44820, 45000, 45180, 45360, 45540, 45720, 45900, 46080, 46260, 46440, 46620, 46800, 46980, 47160, 47340, 47520, 47700, 47880, 48060, 48240, 48420, 48600, 48780, 48960, 49140, 49320, 49500, 49680, 49860, 50040, 50220, 50400, 50580, 50760, 50940, 51120, 51300, 51480, 51660, 51840, 52020, 52200, 52380, 52560, 52740, 52920, 53100, 53280, 53460, 53640, 53820, 54000, 54180, 54360, 54540, 54720, 54900, 55080, 55260, 55440, 55620, 55800, 55980, 56160, 56340, 56520, 56700, 56880, 57060, 57240, 57420, 57600, 57780, 57960, 58140, 58320, 58500, 58680, 58860, 59040, 59220, 59400, 59580, 59760, 59940, 60120, 60300, 60480, 60660, 60840, 61020, 61200, 61380, 61560, 61740, 61920, 62100, 62280, 62460, 62640, 62820, 63000, 63180, 63360, 63540, 63720, 63900, 64080, 64260, 64440, 64620, 64800, 64980, 65160, 65340, 65520, 65700, 65880, 66060, 66240, 66420, 66600, 66780, 66960, 67140, 67320, 67500, 67680, 67860, 68040, 68220, 68400, 68580, 68760, 68940, 69120, 69300, 69480, 69660, 69840, 70020, 70200, 70380, 70560, 70740, 70920, 71100, 71280, 71460, 71640, 71820, 72000, 2020-01-13 15:08:03,667 solvers 0/1 INFO :: Simulation stop time reached.\n",
      "Runtime: 13.331317901611328\n"
     ]
    }
   ],
   "source": [
    "#===== Set up domain =====\n",
    "# Create basis and domain for all experiments\n",
    "Lz = 4000\n",
    "nz = 512\n",
    "z_basis = de.Chebyshev('z', nz, interval=(0, Lz), dealias=3/2)\n",
    "domain = de.Domain([z_basis], np.float64)\n",
    "z = domain.grid(0)\n",
    "\n",
    "#===== Set up Problem ======\n",
    "problem = de.IVP(domain, variables=['u', 'v', 'b', 'uz', 'vz', 'bz']);\n",
    "\n",
    "# Set parameters\n",
    "problem.parameters['f'] = f\n",
    "problem.parameters['tht'] = tht # set in loop\n",
    "problem.parameters['N'] = N\n",
    "k = domain.new_field(name='k')\n",
    "k['g'] = k0+k1*np.exp(-z/d)\n",
    "problem.parameters['k'] = k\n",
    "\n",
    "nu = domain.new_field(name='nu')\n",
    "nu['g'] = (k0+k1*np.exp(-z/d))*Pr\n",
    "problem.parameters['nu'] = nu\n",
    "\n",
    "# Main equations\n",
    "problem.add_equation(\"-f*cos(tht)*v - sin(tht)*b - dz(nu*uz) = 0\")\n",
    "problem.add_equation(\"f*u*cos(tht) - dz(nu*vz) = 0\")\n",
    "problem.add_equation(\"dt(b) + N**2*sin(tht)*u - dz(k*bz) = N**2*cos(tht)*dz(k)\")\n",
    "\n",
    "# Auxiliary equations defining the first-order reduction\n",
    "problem.add_equation(\"uz - dz(u) = 0\")\n",
    "problem.add_equation(\"vz - dz(v) = 0\")\n",
    "problem.add_equation(\"bz - dz(b) = 0\")\n",
    "\n",
    "# Boundary conditions\n",
    "problem.add_bc('left(u) = 0')\n",
    "problem.add_bc('left(v) = 0')\n",
    "problem.add_bc('left(bz) = - N**2*cos(tht)')\n",
    "problem.add_bc('right(uz) = 0')\n",
    "problem.add_bc('right(vz) = 0')\n",
    "problem.add_bc('right(bz) = 0')\n",
    "\n",
    "# Set solver for IVP\n",
    "solver = problem.build_solver(de.timesteppers.RK443);\n",
    "\n",
    "#==== Set initial conditions ====\n",
    "# Reference local grid and state fields\n",
    "z = domain.grid(0)\n",
    "u = solver.state['u']\n",
    "v = solver.state['v']\n",
    "b = solver.state['b']\n",
    "uz = solver.state['uz']\n",
    "vz = solver.state['vz']\n",
    "bz = solver.state['bz']\n",
    "\n",
    "# State from a state of rest\n",
    "u['g'] = np.zeros_like(z)\n",
    "v['g'] = np.zeros_like(z)\n",
    "b['g'] = np.zeros_like(z)\n",
    "u.differentiate('z', out=uz)\n",
    "v.differentiate('z', out=vz)\n",
    "b.differentiate('z', out=bz)\n",
    "\n",
    "\n",
    "#==== Create analysis files ====\n",
    "output_path = '../../data/dedalus/basic_state'\n",
    "analysis = solver.evaluator.add_file_handler(output_path, iter=1)\n",
    "analysis.add_system(solver.state, layout='g')\n",
    "\n",
    "# Stop stopping criteria\n",
    "solver.stop_sim_time = (50.*24.*60.*60.)\n",
    "solver.stop_wall_time = np.inf\n",
    "solver.stop_iteration = np.inf\n",
    "\n",
    "# Setup storage\n",
    "u_list = [np.copy(u['g'])]\n",
    "v_list = [np.copy(v['g'])]\n",
    "b_list = [np.copy(b['g'])]\n",
    "bz_list = [np.copy(bz['g'])]\n",
    "t_list = [solver.sim_time]\n",
    "\n",
    "# Main loop\n",
    "dt = 3*60.*60.\n",
    "start_time = time.time()\n",
    "print('Iterations: ')\n",
    "while solver.ok:\n",
    "    solver.step(dt);\n",
    "    if solver.sim_time % (3.*60.*60.) == 0:\n",
    "        print(np.int64(solver.sim_time/60.), end=\", \")\n",
    "        u_list.append(np.copy(u['g']))\n",
    "        v_list.append(np.copy(v['g']))\n",
    "        b_list.append(np.copy(b['g']))\n",
    "        bz_list.append(np.copy(bz['g']))\n",
    "        t_list.append(solver.sim_time)\n",
    "        \n",
    "end_time = time.time()\n",
    "print('Runtime:', end_time-start_time)\n",
    "z_da = domain.grid(0, scales=domain.dealias)"
   ]
  },
  {
   "cell_type": "code",
   "execution_count": null,
   "metadata": {},
   "outputs": [],
   "source": [
    "from dedalus.tools import post\n",
    "import pathlib\n",
    "post.merge_process_files(output_path, cleanup=True)\n",
    "set_paths = list(pathlib.Path(output_path).glob(\"basic_state_s*.h5\"))\n",
    "os.system(f\"rm {output_path}/output.h5\")\n",
    "post.merge_sets(output_path+\"/output.h5\", set_paths, cleanup=True)"
   ]
  }
 ],
 "metadata": {
  "kernelspec": {
   "display_name": "Python 3",
   "language": "python",
   "name": "python3"
  },
  "language_info": {
   "codemirror_mode": {
    "name": "ipython",
    "version": 3
   },
   "file_extension": ".py",
   "mimetype": "text/x-python",
   "name": "python",
   "nbconvert_exporter": "python",
   "pygments_lexer": "ipython3",
   "version": "3.7.6"
  }
 },
 "nbformat": 4,
 "nbformat_minor": 4
}
