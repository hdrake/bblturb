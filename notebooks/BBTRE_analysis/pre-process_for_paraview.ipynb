{
 "cells": [
  {
   "cell_type": "code",
   "execution_count": 1,
   "metadata": {},
   "outputs": [],
   "source": [
    "import xarray as xr\n",
    "import numpy as np\n",
    "import xgcm\n",
    "from xmitgcm import open_mdsdataset\n",
    "\n",
    "import matplotlib\n",
    "from matplotlib import pyplot as plt\n",
    "%matplotlib inline\n",
    "plt.rcParams['figure.figsize'] = (10,6)\n",
    "plt.rcParams['font.size'] = 16\n",
    "\n",
    "from bbl_utils import *\n",
    "\n",
    "# Progress bar for dask stuff\n",
    "#from dask.diagnostics import ProgressBar\n",
    "#ProgressBar().register()\n",
    "\n",
    "import warnings\n",
    "warnings.filterwarnings('ignore', '.*.')\n",
    "\n",
    "nancol = (0.8,0.8,0.8)\n",
    "\n",
    "div_cmap = plt.get_cmap('RdBu_r')\n",
    "div_cmap.set_bad(color=nancol)\n",
    "\n",
    "cmap = plt.get_cmap('viridis')\n",
    "cmap.set_bad(color=nancol)"
   ]
  },
  {
   "cell_type": "code",
   "execution_count": 4,
   "metadata": {},
   "outputs": [
    {
     "data": {
      "text/plain": [
       "array([3182400, 3211200, 3240000, 3268800, 3297600])"
      ]
     },
     "execution_count": 4,
     "metadata": {},
     "output_type": "execute_result"
    }
   ],
   "source": [
    "n = 5\n",
    "diter = 28800\n",
    "iter0 = 3182400\n",
    "iters = np.arange(iter0, iter0+n*diter, diter)\n",
    "iters"
   ]
  },
  {
   "cell_type": "code",
   "execution_count": 3,
   "metadata": {},
   "outputs": [],
   "source": [
    "iters = [3173760]"
   ]
  },
  {
   "cell_type": "markdown",
   "metadata": {},
   "source": [
    "### Physical parameters"
   ]
  },
  {
   "cell_type": "code",
   "execution_count": 4,
   "metadata": {},
   "outputs": [],
   "source": [
    "Γ = 0.0008613659531090722\n",
    "θ = 1.53E-3\n",
    "f = -0.53e-4"
   ]
  },
  {
   "cell_type": "markdown",
   "metadata": {},
   "source": [
    "### Test grid pre-processing"
   ]
  },
  {
   "cell_type": "code",
   "execution_count": 13,
   "metadata": {},
   "outputs": [],
   "source": [
    "data_dir_2D = f\"../../MITgcm/experiments/rotated_BBTRE_rest-tracer/run/\"\n",
    "ds = open_mdsdataset(data_dir_2D,iters=iters,ignore_unknown_vars=True,prefix=[\"tracerDiag\"], delta_t=60.)"
   ]
  },
  {
   "cell_type": "code",
   "execution_count": 14,
   "metadata": {},
   "outputs": [],
   "source": [
    "def parallel_combine(ds_list, concat_dims):\n",
    "    ds_new_list = []\n",
    "    for concat_dim in concat_dims:\n",
    "        tmp_list = []\n",
    "        for ds in ds_list:\n",
    "            tmp = ds.copy()\n",
    "            for var in (list(ds.data_vars) + list(ds.coords)):\n",
    "                if (concat_dim not in ds[var].dims) & any([(dim in concat_dims) for dim in ds[var].dims]):\n",
    "                    tmp = tmp.drop_vars(var)\n",
    "            tmp_list.append(tmp)\n",
    "        ds_new_list.append(xr.combine_by_coords(tmp_list))\n",
    "    return xr.merge(ds_new_list)"
   ]
  },
  {
   "cell_type": "code",
   "execution_count": 15,
   "metadata": {},
   "outputs": [],
   "source": [
    "def periodic_extend(ds, concat_dims, dim_length, extend_multiples):\n",
    "    ds_list = []\n",
    "    for extend in range(extend_multiples[0], extend_multiples[1]+1):\n",
    "        tmp = ds.copy()\n",
    "        tmp_attrs = [tmp[dim].attrs for dim in concat_dims]\n",
    "        for dim in concat_dims:\n",
    "            tmp[dim] = tmp[dim] + extend*dim_length\n",
    "        ds_list.append(tmp)\n",
    "    ds = parallel_combine(ds_list, concat_dims = concat_dims)\n",
    "    for i, dim in enumerate(concat_dims):\n",
    "        ds[dim].attrs = tmp_attrs[i]\n",
    "    return ds"
   ]
  },
  {
   "cell_type": "code",
   "execution_count": 16,
   "metadata": {},
   "outputs": [],
   "source": [
    "dx = 500.\n",
    "Lx = ds['XC'].size*dx\n",
    "extend_multiples = [-1, 0]\n",
    "ds = periodic_extend(ds, ['XC', 'XG'], Lx, extend_multiples)"
   ]
  },
  {
   "cell_type": "code",
   "execution_count": 17,
   "metadata": {},
   "outputs": [],
   "source": [
    "H = ds['Depth'].max().values.copy().astype('>f8')\n",
    "ds['Z'] += H\n",
    "ds['Zl'] += H\n",
    "ds['Zu'] += H\n",
    "ds['Zp1'] += H\n",
    "\n",
    "grid = Grid(ds, periodic=['X', 'Y'])\n",
    "\n",
    "ds = ds.assign_coords({\n",
    "    'Zr': (['XC', 'Z'], (ds['XC']*np.sin(θ) + ds['Z']*np.cos(θ)).values),\n",
    "    'Xr': (['XC', 'Z'], (ds['XC']*np.cos(θ) - ds['Z']*np.sin(θ)).values),\n",
    "    'Zr_V': (['XC', 'Z'], (ds['XC']*np.sin(θ) + ds['Z']*np.cos(θ)).values),\n",
    "    'Xr_V': (['XC', 'Z'], (ds['XC']*np.cos(θ) - ds['Z']*np.sin(θ)).values),\n",
    "    'Zr_U': (['XG', 'Z'], (ds['XG']*np.sin(θ) + ds['Z']*np.cos(θ)).values),\n",
    "    'Xr_U': (['XG', 'Z'], (ds['XG']*np.cos(θ) - ds['Z']*np.sin(θ)).values),\n",
    "    'Zr_W': (['XC', 'Zl'], (ds['XC']*np.sin(θ) + ds['Zl']*np.cos(θ)).values),\n",
    "    'Xr_W': (['XC', 'Zl'], (ds['XC']*np.cos(θ) - ds['Zl']*np.sin(θ)).values)\n",
    "})\n",
    "\n",
    "ds['Depthr'] = ds['Depth'] - ds['XC']*np.tan(θ)\n",
    "\n",
    "volume = (ds.drF * ds.rA * ds.hFacC)\n",
    "day2seconds = (24*60*60)**-1"
   ]
  },
  {
   "cell_type": "code",
   "execution_count": 18,
   "metadata": {},
   "outputs": [
    {
     "data": {
      "text/html": [
       "<pre>&lt;xarray.Dataset&gt;\n",
       "Dimensions:  (XC: 2400, XG: 2400, YC: 120, YG: 120, Z: 260, Zl: 260, Zp1: 261, Zu: 260, time: 1)\n",
       "Coordinates:\n",
       "    drF      (Z) float64 71.38 69.47 67.61 65.8 64.04 ... 5.0 5.0 5.0 5.0 5.0\n",
       "    PHrefF   (Zp1) float64 0.0 700.3 1.382e+03 ... 3.218e+04 3.223e+04 3.228e+04\n",
       "    iter     (time) int64 3173760\n",
       "    drC      (Zp1) float64 35.69 70.43 68.54 66.71 64.92 ... 5.0 5.0 5.0 5.0 2.5\n",
       "    PHrefC   (Z) float64 350.1 1.041e+03 1.713e+03 ... 3.22e+04 3.225e+04\n",
       "  * time     (time) timedelta64[ns] 2204 days\n",
       "  * Zl       (Zl) &gt;f8 3.285e+03 3.214e+03 3.144e+03 ... 10.0 5.0 -1.364e-12\n",
       "  * Zp1      (Zp1) &gt;f8 3.285e+03 3.214e+03 3.144e+03 ... 5.0 -1.364e-12 -5.0\n",
       "  * Z        (Z) &gt;f8 3.25e+03 3.179e+03 3.111e+03 3.044e+03 ... 7.5 2.5 -2.5\n",
       "  * YG       (YG) &gt;f8 0.0 500.0 1e+03 1.5e+03 ... 5.85e+04 5.9e+04 5.95e+04\n",
       "  * Zu       (Zu) &gt;f8 3.214e+03 3.144e+03 3.077e+03 ... 5.0 -1.364e-12 -5.0\n",
       "  * YC       (YC) &gt;f8 250.0 750.0 1.25e+03 ... 5.875e+04 5.925e+04 5.975e+04\n",
       "  * XC       (XC) float64 -3.998e+05 -3.992e+05 ... 7.992e+05 7.998e+05\n",
       "    rA       (YC, XC) float64 dask.array&lt;chunksize=(120, 800), meta=np.ndarray&gt;\n",
       "    dxG      (YG, XC) float64 dask.array&lt;chunksize=(120, 800), meta=np.ndarray&gt;\n",
       "    Depth    (YC, XC) float64 dask.array&lt;chunksize=(120, 800), meta=np.ndarray&gt;\n",
       "    dyC      (YG, XC) float64 dask.array&lt;chunksize=(120, 800), meta=np.ndarray&gt;\n",
       "    rAs      (YG, XC) float64 dask.array&lt;chunksize=(120, 800), meta=np.ndarray&gt;\n",
       "    hFacC    (Z, YC, XC) float64 dask.array&lt;chunksize=(260, 120, 800), meta=np.ndarray&gt;\n",
       "    hFacS    (Z, YG, XC) float64 dask.array&lt;chunksize=(260, 120, 800), meta=np.ndarray&gt;\n",
       "    maskC    (Z, YC, XC) bool dask.array&lt;chunksize=(260, 120, 800), meta=np.ndarray&gt;\n",
       "    maskS    (Z, YG, XC) bool dask.array&lt;chunksize=(260, 120, 800), meta=np.ndarray&gt;\n",
       "  * XG       (XG) float64 -4e+05 -3.995e+05 -3.99e+05 ... 7.99e+05 7.995e+05\n",
       "    dyG      (YC, XG) float64 dask.array&lt;chunksize=(120, 800), meta=np.ndarray&gt;\n",
       "    rAz      (YG, XG) float64 dask.array&lt;chunksize=(120, 800), meta=np.ndarray&gt;\n",
       "    dxC      (YC, XG) float64 dask.array&lt;chunksize=(120, 800), meta=np.ndarray&gt;\n",
       "    rAw      (YC, XG) float64 dask.array&lt;chunksize=(120, 800), meta=np.ndarray&gt;\n",
       "    hFacW    (Z, YC, XG) float64 dask.array&lt;chunksize=(260, 120, 800), meta=np.ndarray&gt;\n",
       "    maskW    (Z, YC, XG) bool dask.array&lt;chunksize=(260, 120, 800), meta=np.ndarray&gt;\n",
       "    Zr       (XC, Z) float64 2.638e+03 2.568e+03 ... 1.226e+03 1.221e+03\n",
       "    Xr       (XC, Z) float64 -3.998e+05 -3.998e+05 ... 7.997e+05 7.997e+05\n",
       "    Zr_V     (XC, Z) float64 2.638e+03 2.568e+03 ... 1.226e+03 1.221e+03\n",
       "    Xr_V     (XC, Z) float64 -3.998e+05 -3.998e+05 ... 7.997e+05 7.997e+05\n",
       "    Zr_U     (XG, Z) float64 2.638e+03 2.567e+03 ... 1.226e+03 1.221e+03\n",
       "    Xr_U     (XG, Z) float64 -4e+05 -4e+05 -4e+05 ... 7.995e+05 7.995e+05\n",
       "    Zr_W     (XC, Zl) float64 2.674e+03 2.602e+03 ... 1.229e+03 1.224e+03\n",
       "    Xr_W     (XC, Zl) float64 -3.998e+05 -3.998e+05 ... 7.997e+05 7.997e+05\n",
       "Data variables:\n",
       "    TRAC01   (time, Z, YC, XC) float64 dask.array&lt;chunksize=(1, 260, 120, 800), meta=np.ndarray&gt;\n",
       "    TRAC02   (time, Z, YC, XC) float64 dask.array&lt;chunksize=(1, 260, 120, 800), meta=np.ndarray&gt;\n",
       "    Depthr   (YC, XC) float64 dask.array&lt;chunksize=(120, 800), meta=np.ndarray&gt;</pre>"
      ],
      "text/plain": [
       "<xarray.Dataset>\n",
       "Dimensions:  (XC: 2400, XG: 2400, YC: 120, YG: 120, Z: 260, Zl: 260, Zp1: 261, Zu: 260, time: 1)\n",
       "Coordinates:\n",
       "    drF      (Z) float64 71.38 69.47 67.61 65.8 64.04 ... 5.0 5.0 5.0 5.0 5.0\n",
       "    PHrefF   (Zp1) float64 0.0 700.3 1.382e+03 ... 3.218e+04 3.223e+04 3.228e+04\n",
       "    iter     (time) int64 3173760\n",
       "    drC      (Zp1) float64 35.69 70.43 68.54 66.71 64.92 ... 5.0 5.0 5.0 5.0 2.5\n",
       "    PHrefC   (Z) float64 350.1 1.041e+03 1.713e+03 ... 3.22e+04 3.225e+04\n",
       "  * time     (time) timedelta64[ns] 2204 days\n",
       "  * Zl       (Zl) >f8 3.285e+03 3.214e+03 3.144e+03 ... 10.0 5.0 -1.364e-12\n",
       "  * Zp1      (Zp1) >f8 3.285e+03 3.214e+03 3.144e+03 ... 5.0 -1.364e-12 -5.0\n",
       "  * Z        (Z) >f8 3.25e+03 3.179e+03 3.111e+03 3.044e+03 ... 7.5 2.5 -2.5\n",
       "  * YG       (YG) >f8 0.0 500.0 1e+03 1.5e+03 ... 5.85e+04 5.9e+04 5.95e+04\n",
       "  * Zu       (Zu) >f8 3.214e+03 3.144e+03 3.077e+03 ... 5.0 -1.364e-12 -5.0\n",
       "  * YC       (YC) >f8 250.0 750.0 1.25e+03 ... 5.875e+04 5.925e+04 5.975e+04\n",
       "  * XC       (XC) float64 -3.998e+05 -3.992e+05 ... 7.992e+05 7.998e+05\n",
       "    rA       (YC, XC) float64 dask.array<chunksize=(120, 800), meta=np.ndarray>\n",
       "    dxG      (YG, XC) float64 dask.array<chunksize=(120, 800), meta=np.ndarray>\n",
       "    Depth    (YC, XC) float64 dask.array<chunksize=(120, 800), meta=np.ndarray>\n",
       "    dyC      (YG, XC) float64 dask.array<chunksize=(120, 800), meta=np.ndarray>\n",
       "    rAs      (YG, XC) float64 dask.array<chunksize=(120, 800), meta=np.ndarray>\n",
       "    hFacC    (Z, YC, XC) float64 dask.array<chunksize=(260, 120, 800), meta=np.ndarray>\n",
       "    hFacS    (Z, YG, XC) float64 dask.array<chunksize=(260, 120, 800), meta=np.ndarray>\n",
       "    maskC    (Z, YC, XC) bool dask.array<chunksize=(260, 120, 800), meta=np.ndarray>\n",
       "    maskS    (Z, YG, XC) bool dask.array<chunksize=(260, 120, 800), meta=np.ndarray>\n",
       "  * XG       (XG) float64 -4e+05 -3.995e+05 -3.99e+05 ... 7.99e+05 7.995e+05\n",
       "    dyG      (YC, XG) float64 dask.array<chunksize=(120, 800), meta=np.ndarray>\n",
       "    rAz      (YG, XG) float64 dask.array<chunksize=(120, 800), meta=np.ndarray>\n",
       "    dxC      (YC, XG) float64 dask.array<chunksize=(120, 800), meta=np.ndarray>\n",
       "    rAw      (YC, XG) float64 dask.array<chunksize=(120, 800), meta=np.ndarray>\n",
       "    hFacW    (Z, YC, XG) float64 dask.array<chunksize=(260, 120, 800), meta=np.ndarray>\n",
       "    maskW    (Z, YC, XG) bool dask.array<chunksize=(260, 120, 800), meta=np.ndarray>\n",
       "    Zr       (XC, Z) float64 2.638e+03 2.568e+03 ... 1.226e+03 1.221e+03\n",
       "    Xr       (XC, Z) float64 -3.998e+05 -3.998e+05 ... 7.997e+05 7.997e+05\n",
       "    Zr_V     (XC, Z) float64 2.638e+03 2.568e+03 ... 1.226e+03 1.221e+03\n",
       "    Xr_V     (XC, Z) float64 -3.998e+05 -3.998e+05 ... 7.997e+05 7.997e+05\n",
       "    Zr_U     (XG, Z) float64 2.638e+03 2.567e+03 ... 1.226e+03 1.221e+03\n",
       "    Xr_U     (XG, Z) float64 -4e+05 -4e+05 -4e+05 ... 7.995e+05 7.995e+05\n",
       "    Zr_W     (XC, Zl) float64 2.674e+03 2.602e+03 ... 1.229e+03 1.224e+03\n",
       "    Xr_W     (XC, Zl) float64 -3.998e+05 -3.998e+05 ... 7.997e+05 7.997e+05\n",
       "Data variables:\n",
       "    TRAC01   (time, Z, YC, XC) float64 dask.array<chunksize=(1, 260, 120, 800), meta=np.ndarray>\n",
       "    TRAC02   (time, Z, YC, XC) float64 dask.array<chunksize=(1, 260, 120, 800), meta=np.ndarray>\n",
       "    Depthr   (YC, XC) float64 dask.array<chunksize=(120, 800), meta=np.ndarray>"
      ]
     },
     "execution_count": 18,
     "metadata": {},
     "output_type": "execute_result"
    }
   ],
   "source": [
    "ds"
   ]
  },
  {
   "cell_type": "code",
   "execution_count": 20,
   "metadata": {},
   "outputs": [],
   "source": [
    "ds.to_netcdf(\"../../MITgcm/experiments/rotated_BBTRE_rest-tracer/run/test_paraview.nc\")"
   ]
  },
  {
   "cell_type": "code",
   "execution_count": null,
   "metadata": {},
   "outputs": [],
   "source": []
  }
 ],
 "metadata": {
  "kernelspec": {
   "display_name": "Python 3",
   "language": "python",
   "name": "python3"
  },
  "language_info": {
   "codemirror_mode": {
    "name": "ipython",
    "version": 3
   },
   "file_extension": ".py",
   "mimetype": "text/x-python",
   "name": "python",
   "nbconvert_exporter": "python",
   "pygments_lexer": "ipython3",
   "version": "3.8.1"
  }
 },
 "nbformat": 4,
 "nbformat_minor": 4
}
