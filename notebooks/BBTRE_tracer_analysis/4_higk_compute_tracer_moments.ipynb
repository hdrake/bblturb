{
 "cells": [
  {
   "cell_type": "code",
   "execution_count": 1,
   "metadata": {},
   "outputs": [],
   "source": [
    "%load_ext autoreload\n",
    "%autoreload 2"
   ]
  },
  {
   "cell_type": "code",
   "execution_count": 2,
   "metadata": {},
   "outputs": [],
   "source": [
    "import sys\n",
    "sys.path.append(\"../BBTRE_physics_analysis/\") "
   ]
  },
  {
   "cell_type": "code",
   "execution_count": 3,
   "metadata": {},
   "outputs": [],
   "source": [
    "import numpy as np\n",
    "import xarray as xr\n",
    "\n",
    "from xmitgcm import open_mdsdataset \n",
    "from xhistogram.xarray import histogram\n",
    "\n",
    "from osse import *\n",
    "from canyon_utils import *\n",
    "from sloped_MITgcm import *\n",
    "from wmt import *"
   ]
  },
  {
   "cell_type": "markdown",
   "metadata": {},
   "source": [
    "### Configuration parameters"
   ]
  },
  {
   "cell_type": "code",
   "execution_count": 4,
   "metadata": {},
   "outputs": [],
   "source": [
    "# Constant parameters\n",
    "\n",
    "Γ = 0.0008613659531090722\n",
    "N = np.sqrt(g*α*Γ)\n",
    "θ = 1.26E-3\n",
    "f = -5.3e-5\n",
    "\n",
    "h = 230\n",
    "k0 = 5.2e-5\n",
    "k1 = 1.8e-3\n",
    "\n",
    "dx = 600.; dy = 600.\n",
    "delta_t = 15."
   ]
  },
  {
   "cell_type": "markdown",
   "metadata": {},
   "source": [
    "### Load output"
   ]
  },
  {
   "cell_type": "code",
   "execution_count": 5,
   "metadata": {},
   "outputs": [],
   "source": [
    "runname = \"run\"\n",
    "data_dir = f\"../../MITgcm/experiments/rotated_BBTRE_canyon-tracer-2xkappa/{runname}/\"\n",
    "budget_diags = [\"budgetDiag\", \"tracer01Diag\"]\n",
    "ds = open_mdsdataset(data_dir,ignore_unknown_vars=True,prefix=budget_diags, delta_t=delta_t)\n",
    "#ds = ds.sel(time=ds['time'][1:])\n",
    "#ds = ds.sel(time=ds['time'][1::40]) # Comment out in production\n",
    "Lx = dx*ds[\"XC\"].size\n",
    "ds = periodic_extend(ds, ['XC', 'XG'], Lx, [-1,0])\n",
    "xslice = [500, 500+800]\n",
    "ds = ds.isel(XC=slice(*xslice), XG=slice(*xslice))\n",
    "ds, grid = add_rotated_coords(ds, θ)\n",
    "ds = ds.chunk({'XC': 400, 'XG': 400})\n",
    "ds['dV'] = (ds.drF * ds.rA * ds.hFacC)\n",
    "\n",
    "ds = ds.assign_coords({'days': (ds['time'].astype('float64')*1.e-9/86400.)})"
   ]
  },
  {
   "cell_type": "code",
   "execution_count": 6,
   "metadata": {},
   "outputs": [
    {
     "data": {
      "image/png": "[encoded data removed]",
      "text/plain": [
       "<Figure size 720x432 with 1 Axes>"
      ]
     },
     "metadata": {
      "needs_background": "light"
     },
     "output_type": "display_data"
    }
   ],
   "source": [
    "(-ds['TRAC01'].min(['XC', 'YC', 'Z'])).plot(marker='o', x='days', yscale='log', label=runname)\n",
    "plt.xlim([0, 450])\n",
    "plt.legend()\n",
    "plt.grid(True)"
   ]
  },
  {
   "cell_type": "markdown",
   "metadata": {},
   "source": [
    "### Reconstructing the full temperature field"
   ]
  },
  {
   "cell_type": "code",
   "execution_count": 7,
   "metadata": {},
   "outputs": [],
   "source": [
    "ds['THETA'] = ds['THETA'].where(ds['THETA'] != 0.)\n",
    "ds['THETA_BG_C'] = Γ*ds['Zr']\n",
    "ds['θ'] = ds['THETA'] + ds['THETA_BG_C']"
   ]
  },
  {
   "cell_type": "code",
   "execution_count": 8,
   "metadata": {},
   "outputs": [],
   "source": [
    "add_gradients(ds, grid, 'θ');\n",
    "ds = add_hab_coordinates(ds, grid, vert_coord='Z', gridface='C');"
   ]
  },
  {
   "cell_type": "markdown",
   "metadata": {},
   "source": [
    "### Tracer budgets\n",
    "\n",
    "First, we evaluate the terms of the tracer and temperature budgets:\n",
    "\\begin{equation}\n",
    "LHS = RHS = \\text{Diffusion} + \\text{Advection}\n",
    "\\end{equation}"
   ]
  },
  {
   "cell_type": "code",
   "execution_count": 9,
   "metadata": {},
   "outputs": [],
   "source": [
    "for tr, tr_name in enumerate([\"_TH\", \"Tr01\"]):\n",
    "    tmp = tracer_flux_budget(ds, grid, tr_name, θ=θ, Γ=Γ).chunk({'Z': -1, 'YC': -1, 'XC': 400})\n",
    "    if tr_name[0] != \"_\":\n",
    "        tr_name = \"_\"+tr_name\n",
    "    tmp[f'total_tendency{tr_name}'] = tmp[f'conv_total_flux{tr_name}'].fillna(0.)\n",
    "    tmp[f'diff_tendency{tr_name}'] = tmp[f'conv_horiz_diff_flux{tr_name}'] + tmp[f'conv_vert_diff_flux{tr_name}']\n",
    "    tmp[f'adv_tendency{tr_name}'] = tmp[f'conv_horiz_adv_flux{tr_name}'] + tmp[f'conv_vert_adv_flux{tr_name}']\n",
    "    if tr_name == \"_TH\":\n",
    "        tmp[f'adv_tendency{tr_name}'] = tmp[f'adv_tendency{tr_name}'] + tmp['conv_adv_flux_anom_TH']\n",
    "        tmp[f'diff_tendency{tr_name}'] = tmp[f'diff_tendency{tr_name}'] + tmp['conv_vert_diff_flux_anom_TH']\n",
    "        tmp[f'total_tendency_truth{tr_name}'] = ds.TOTTTEND * ds['dV'] * day2seconds\n",
    "    else:\n",
    "        tmp[f'total_tendency_truth{tr_name}'] = ds[f'Tp_g{tr_name[1:]}'] * ds['dV'] * day2seconds\n",
    "    ds = xr.merge([ds, tmp])"
   ]
  },
  {
   "cell_type": "markdown",
   "metadata": {},
   "source": [
    "## Various first moments"
   ]
  },
  {
   "cell_type": "code",
   "execution_count": 10,
   "metadata": {},
   "outputs": [
    {
     "name": "stdout",
     "output_type": "stream",
     "text": [
      "Computing various 1st moments for Tracer 1\n"
     ]
    }
   ],
   "source": [
    "for tr in [1]:\n",
    "    print(f\"Computing various 1st moments for Tracer {tr}\")\n",
    "    ds[f'M_Tr0{tr}'] = (ds[f'TRAC0{tr}']*ds['dV']).sum(dim=['Z', 'YC', 'XC']).compute()\n",
    "    ds[f'Xbar_Tr0{tr}'] = ((ds['XC']*ds[f'TRAC0{tr}']*ds['dV']).sum(dim=['Z', 'YC', 'XC']) / ds[f'M_Tr0{tr}']).compute()\n",
    "    ds[f'Zbar_Tr0{tr}'] = ((ds['Z']*ds[f'TRAC0{tr}']*ds['dV']).sum(dim=['Z', 'YC', 'XC']) / ds[f'M_Tr0{tr}']).compute()\n",
    "    ds[f'Zrbar_Tr0{tr}'] = ((ds['Zr']*ds[f'TRAC0{tr}']*ds['dV']).sum(dim=['Z', 'YC', 'XC']) / ds[f'M_Tr0{tr}']).compute()\n",
    "    ds[f'HABbar_Tr0{tr}'] = ((ds['Z_habC']*ds[f'TRAC0{tr}']*ds['dV']).sum(dim=['Z', 'YC', 'XC']) / ds[f'M_Tr0{tr}']).compute()\n",
    "    ds[f'θbar_Tr0{tr}'] = ((ds['θ']*ds[f'TRAC0{tr}']*ds['dV']).sum(dim=['Z', 'YC', 'XC']) / ds[f'M_Tr0{tr}']).compute()"
   ]
  },
  {
   "cell_type": "markdown",
   "metadata": {},
   "source": [
    "## First moment budget (tracer-weighted mean temperature)\n",
    "\n",
    "\n",
    "The rate of change of the first temperature moment $\\overline{\\Theta} = \\dfrac{\\int \\Theta c \\,\\text{d}V}{\\int c \\; \\text{d}V}$ (average temperature of the tracer distribution) is given by\n",
    "\n",
    "\\begin{equation}\n",
    "\\int \\partial_{t}  \\left( \\Theta c \\right) \\text{d}V + \\int \\left( c \\nabla \\cdot \\mathbf{u} \\Theta + \\Theta \\nabla \\cdot \\mathbf{u} c \\right) \\text{d}V = \\int \\left( c \\nabla \\cdot \\mathbf{F_{\\Theta}} + \\Theta \\nabla \\cdot \\mathbf{F_{c}} \\right) \\text{d}V,\n",
    "\\end{equation}\n",
    "after dividing by the total tracer mass $M = \\int c \\; \\text{d}V$.\n",
    " \n",
    "In practice, we compute this budget by explicitly reconstructing each of the following terms from the tracer and temperature budgets. Each term is diagnosed from an instantaneous snapshot of the solution at machine precision and we can compare the LHS to the RHS to ensure our budget is closed (this is not guaranteed since the buoyancy and tracer equations are solved separetly).\n",
    "\n",
    "**Note:** Is hyperdiffusion included in the diffusive diagnostics?\n",
    "\n",
    "\\begin{equation}\n",
    "\\int  \\left( \\Theta \\partial_{t} c + c\\partial_{t} \\Theta \\right) \\text{d}V + \\int \\left( c \\nabla \\cdot \\mathbf{u} \\Theta + \\Theta \\nabla \\cdot \\mathbf{u} c \\right) \\text{d}V = \\int \\left( c \\nabla \\cdot \\mathbf{F_{\\Theta}} + \\Theta \\nabla \\cdot \\mathbf{F_{c}} \\right) \\text{d}V\n",
    "\\end{equation}\n",
    "\n",
    "In practice, we decompose $\\Theta = \\overline{\\Theta} + \\Theta'$ where $\\partial_{z} \\overline{\\Theta} = \\Gamma$ is a constant lapse rate.\n",
    "\n",
    "\\begin{equation}\n",
    "\\int \\left( \\left( \\overline{\\Theta} + \\Theta' \\right) \\partial_{t} c + c \\partial_{t} \\Theta' \\right) \\text{d}V +\n",
    "\\int \\left( c \\nabla \\cdot \\mathbf{u} \\Theta' + cw \\Gamma + (\\overline{\\Theta} + \\Theta') \\nabla \\cdot \\mathbf{u} c \\right) \\text{d}V =\n",
    "\\int \\left( c \\nabla \\cdot \\mathbf{F_{\\Theta'}} - c \\partial_{z} ( \\kappa \\Gamma) + (\\overline{\\Theta} + \\Theta') \\nabla \\cdot \\mathbf{F_{c}} \\right) \\text{d}V\n",
    "\\end{equation}\n",
    "\n",
    "By applying no-flux and no-flow boundary conditions, this equation can be re-written in terms of just the temperature velocity $\\omega = \\nabla \\cdot \\left( \\kappa \\nabla \\Theta \\right)$,\n",
    "\\begin{equation}\n",
    "\\partial_{t} \\overline{\\Theta} = 2 \\overline{\\omega}\n",
    "\\end{equation}"
   ]
  },
  {
   "cell_type": "code",
   "execution_count": 11,
   "metadata": {},
   "outputs": [],
   "source": [
    "dz = 5.\n",
    "hlevs = np.append( np.arange(-dz/2, 200.-dz, dz), np.arange(200., 1500.+dz*5, dz*5) )\n",
    "\n",
    "dhab = np.diff(hlevs)"
   ]
  },
  {
   "cell_type": "code",
   "execution_count": null,
   "metadata": {},
   "outputs": [
    {
     "name": "stdout",
     "output_type": "stream",
     "text": [
      "Computing 1st temperature moments for Tracer 1\n"
     ]
    }
   ],
   "source": [
    "for tr in [1]:\n",
    "    print(f\"Computing 1st temperature moments for Tracer {tr}\")\n",
    "    ## Tracer mass\n",
    "    ds[f'M_Tr0{tr}'] = (ds[f'TRAC0{tr}']*ds['dV']).sum(dim=['Z', 'YC', 'XC']).compute()\n",
    "    \n",
    "    ## LHS terms\n",
    "    ds[f'c_dθdt_Tr0{tr}'] = ds[f'TRAC0{tr}'] * (ds['TOTTTEND']* day2seconds) * ds['dV']\n",
    "    ds[f'θ_dcdt_Tr0{tr}'] = ds['θ'] * ds[f'Tp_gTr0{tr}'] * ds['dV']\n",
    "\n",
    "    ## Full LHS\n",
    "    ds[f'd(θbar)dt_Tr0{tr}'] = (\n",
    "        (ds[f'c_dθdt_Tr0{tr}'].sum(dim=['Z', 'YC', 'XC']) / ds[f'M_Tr0{tr}']).compute() +\n",
    "        (ds[f'θ_dcdt_Tr0{tr}'].sum(dim=['Z', 'YC', 'XC']) / ds[f'M_Tr0{tr}']).compute()\n",
    "    )\n",
    "    \n",
    "    ## RHS terms\n",
    "    # Advective terms\n",
    "    ds[f'c_div_uθ_Tr0{tr}'] = ds[f'TRAC0{tr}']*ds['adv_tendency_TH']\n",
    "    ds[f'θ_div_uc_Tr0{tr}'] = ds['θ']*ds[f'adv_tendency_Tr0{tr}']\n",
    "\n",
    "    ds[f'd(θbar)dt_ADV_Tr0{tr}'] = (\n",
    "        (ds[f'c_div_uθ_Tr0{tr}'].sum(dim=['Z', 'YC', 'XC']) / ds[f'M_Tr0{tr}']).compute() +\n",
    "        (ds[f'θ_div_uc_Tr0{tr}'].sum(dim=['Z', 'YC', 'XC']) / ds[f'M_Tr0{tr}']).compute()\n",
    "    )\n",
    "    \n",
    "    # Diffusive terms\n",
    "    ds[f'c_div_Fθ_Tr0{tr}'] = ds[f'TRAC0{tr}']*ds['diff_tendency_TH']\n",
    "    ds[f'θ_div_Fc_Tr0{tr}'] = ds['θ']*ds[f'diff_tendency_Tr0{tr}']\n",
    "\n",
    "    ds[f'd(θbar)dt_DIFF_Tr0{tr}'] = (\n",
    "        (ds[f'c_div_Fθ_Tr0{tr}'].sum(dim=['Z', 'YC', 'XC']) / ds[f'M_Tr0{tr}']).compute() + \n",
    "        (ds[f'θ_div_Fc_Tr0{tr}'].sum(dim=['Z', 'YC', 'XC']) / ds[f'M_Tr0{tr}']).compute()\n",
    "    )\n",
    "    \n",
    "    # Full RHS\n",
    "    ds[f'd(θbar)dt_RHS_Tr0{tr}'] = ds[f'd(θbar)dt_DIFF_Tr0{tr}'] + ds[f'd(θbar)dt_ADV_Tr0{tr}']\n",
    "    \n",
    "    # Buoyancy velocity term\n",
    "    ωdV = ds['diff_tendency_TH']\n",
    "    ds[f'ωbar_Tr0{tr}'] = ((ωdV * ds[f'TRAC0{tr}']).sum(dim=['Z', 'YC', 'XC']) / ds[f'M_Tr0{tr}']).compute()\n",
    "    ds[f'2ω_Tr0{tr}'] = 2*ds[f'ωbar_Tr0{tr}']\n",
    "    \n",
    "    # HAB distributions\n",
    "    ds[f\"M_Tr0{tr}_hab\"] = histogram(\n",
    "        ds['Z_habC'].broadcast_like(ds[f'TRAC0{tr}']),\n",
    "        bins=[hlevs],\n",
    "        weights=ds[f'TRAC0{tr}']*ds[\"dV\"],\n",
    "        dim=('XC', 'YC', 'Z',)\n",
    "    ).load()\n",
    "    \n",
    "    ds[f'ωbar_Tr0{tr}_hab'] = histogram(\n",
    "        ds['Z_habC'].broadcast_like(ωdV),\n",
    "        bins=[hlevs],\n",
    "        weights=ωdV*ds[f'TRAC0{tr}'],\n",
    "        dim=('XC', 'YC', 'Z',)\n",
    "    ).load()/ds[f'M_Tr0{tr}_hab'];\n",
    "    \n",
    "    ds[f'θbar_Tr0{tr}_hab'] = histogram(\n",
    "        ds['Z_habC'].broadcast_like(ωdV),\n",
    "        bins=[hlevs],\n",
    "        weights=ds['θ']*ds[\"dV\"]*ds[f'TRAC0{tr}'],\n",
    "        dim=('XC', 'YC', 'Z',)\n",
    "    ).load()/ds[f'M_Tr0{tr}_hab'];\n",
    "    \n",
    "    ωp = ωdV/ds[\"dV\"] - ds[f'ωbar_Tr0{tr}']\n",
    "    ds[f'ωp_Tr0{tr}_hab'] = histogram(\n",
    "        ds['Z_habC'].broadcast_like(ωdV),\n",
    "        bins=[hlevs],\n",
    "        weights=ωp*ds[f'TRAC0{tr}']*ds[\"dV\"],\n",
    "        dim=('XC', 'YC', 'Z',)\n",
    "    ).load()/ds[f'M_Tr0{tr}_hab'];\n",
    "    \n",
    "    θp = ds['θ'] - ds[f'θbar_Tr0{tr}']\n",
    "    ds[f'θp_Tr0{tr}_hab'] = histogram(\n",
    "        ds['Z_habC'].broadcast_like(ωdV),\n",
    "        bins=[hlevs],\n",
    "        weights=θp*ds[\"dV\"]*ds[f'TRAC0{tr}'],\n",
    "        dim=('XC', 'YC', 'Z',)\n",
    "    ).load()/ds[f'M_Tr0{tr}_hab'];\n",
    "    \n",
    "    ds[f'ωpθp_bar_Tr0{tr}_hab'] = histogram(\n",
    "        ds['Z_habC'].broadcast_like(ωdV),\n",
    "        bins=[hlevs],\n",
    "        weights=ωp*θp*ds[\"dV\"]*ds[f'TRAC0{tr}'],\n",
    "        dim=('XC', 'YC', 'Z',)\n",
    "    ).load()/ds[f'M_Tr0{tr}_hab'];\n",
    "    \n",
    "    ds[f'ωθbar_Tr0{tr}_hab'] = histogram(\n",
    "        ds['Z_habC'].broadcast_like(ωdV),\n",
    "        bins=[hlevs],\n",
    "        weights=ds['θ']*ωdV*ds[f'TRAC0{tr}'],\n",
    "        dim=('XC', 'YC', 'Z',)\n",
    "    ).load()/ds[f'M_Tr0{tr}_hab'];\n",
    "    \n",
    "    ds[\"dZ_habC_bin\"] = xr.DataArray(dhab, coords={\"Z_habC_bin\": ds[\"Z_habC_bin\"].values}, dims=\"Z_habC_bin\")\n",
    "    \n",
    "    # BBL / SML distributions\n",
    "    ds[f'ωbar_BBL_Tr0{tr}'] = ((ωdV.where(ωdV>0., 0.) * ds[f'TRAC0{tr}']).sum(dim=['Z', 'YC', 'XC']) / ds[f'M_Tr0{tr}']).compute()\n",
    "    ds[f'ωbar_SML_Tr0{tr}'] = ((ωdV.where(ωdV<0., 0.) * ds[f'TRAC0{tr}']).sum(dim=['Z', 'YC', 'XC']) / ds[f'M_Tr0{tr}']).compute()"
   ]
  },
  {
   "cell_type": "code",
   "execution_count": null,
   "metadata": {},
   "outputs": [],
   "source": [
    "for tr in [1]:\n",
    "    plt.figure(figsize=(8,7))\n",
    "    (1e9*ds[f'd(θbar)dt_Tr0{tr}']).plot(x='days', linestyle=\"-\", color=\"C1\", lw=5, label=r\"$\\partial_{t}\\, \\overline{\\theta}_{LHS}$\")\n",
    "    (1e9*ds[f'd(θbar)dt_RHS_Tr0{tr}']).plot(x='days', linestyle=\":\", color=\"k\", lw=3, label=r\"$\\partial_{t}\\, \\overline{\\theta}_{RHS}$\")\n",
    "    (1e9*ds[f'd(θbar)dt_DIFF_Tr0{tr}']).plot(x='days', color=\"C3\", lw=5, label=r\"$\\partial_{t}\\, \\overline{\\theta}_{DIFF}$\")\n",
    "    (1e9*ds[f'2ω_Tr0{tr}']).plot(x='days', linestyle=\"--\", color=\"k\",lw=2.5, label=r\"$2\\overline{\\omega}$\")\n",
    "    (1e9*ds[f'd(θbar)dt_ADV_Tr0{tr}']).plot(x='days', color=\"C0\", lw=2.5, linestyle=\"-\", label=r\"$\\partial_{t}\\, \\overline{\\theta}_{ADV}$\")\n",
    "    plt.legend()\n",
    "    plt.ylabel(r\"Tracer-averaged temperature tendency [10$^{-9}$ $\\degree$C / s]\")\n",
    "    plt.grid(True)\n",
    "    plt.title(f\"BBTRE (Tracer {tr})\")"
   ]
  },
  {
   "cell_type": "markdown",
   "metadata": {},
   "source": [
    "## Second moment budget (tracer-weighted centered temperature variance)\n",
    "\n",
    "The rate of change of the *second* temperature moment $\\overline{\\Theta^{2}} = \\dfrac{\\int \\Theta^{2} c \\,\\text{d}V}{\\int c \\; \\text{d}V}$ (average temperature variance of the tracer distribution) is given by\n",
    "\n",
    "\\begin{equation}\n",
    "\\int \\partial_{t}  \\left( \\Theta c \\right) \\text{d}V + \\int \\left( c \\nabla \\cdot \\mathbf{u} \\Theta + \\Theta \\nabla \\cdot \\mathbf{u} c \\right) \\text{d}V = \\int \\left( c \\nabla \\cdot \\mathbf{F_{\\Theta}} + \\Theta \\nabla \\cdot \\mathbf{F_{c}} \\right) \\text{d}V,\n",
    "\\end{equation}\n",
    "after dividing by the total tracer mass $M = \\int c \\; \\text{d}V$.\n",
    " \n",
    "In practice, we compute this budget by explicitly reconstructing each of the following terms from the tracer and temperature budgets. Each term is diagnosed from an instantaneous snapshot of the solution at machine precision and we can compare the LHS to the RHS to ensure our budget is closed (this is not guaranteed since the buoyancy and tracer equations are solved separetly).\n",
    "\n",
    "**Note:** Is hyperdiffusion included in the diffusive diagnostics?\n",
    "\n",
    "\\begin{equation}\n",
    "\\int  \\left( \\Theta \\partial_{t} c + c\\partial_{t} \\Theta \\right) \\text{d}V + \\int \\left( c \\nabla \\cdot \\mathbf{u} \\Theta + \\Theta \\nabla \\cdot \\mathbf{u} c \\right) \\text{d}V = \\int \\left( c \\nabla \\cdot \\mathbf{F_{\\Theta}} + \\Theta \\nabla \\cdot \\mathbf{F_{c}} \\right) \\text{d}V\n",
    "\\end{equation}\n",
    "\n",
    "In practice, we decompose $\\Theta = \\overline{\\Theta} + \\Theta'$ where $\\partial_{z} \\overline{\\Theta} = \\Gamma$ is a constant lapse rate.\n",
    "\n",
    "\\begin{equation}\n",
    "\\int \\left( \\left( \\overline{\\Theta} + \\Theta' \\right) \\partial_{t} c + c \\partial_{t} \\Theta' \\right) \\text{d}V +\n",
    "\\int \\left( c \\nabla \\cdot \\mathbf{u} \\Theta' + cw \\Gamma + (\\overline{\\Theta} + \\Theta') \\nabla \\cdot \\mathbf{u} c \\right) \\text{d}V =\n",
    "\\int \\left( c \\nabla \\cdot \\mathbf{F_{\\Theta'}} - c \\partial_{z} ( \\kappa \\Gamma) + (\\overline{\\Theta} + \\Theta') \\nabla \\cdot \\mathbf{F_{c}} \\right) \\text{d}V\n",
    "\\end{equation}\n",
    "\n",
    "By applying no-flux and no-flow boundary conditions, this equation can be re-written in terms of just the temperature velocity $\\omega = \\nabla \\cdot \\left( \\kappa \\nabla \\Theta \\right)$,\n",
    "\\begin{equation}\n",
    "\\partial_{t} \\overline{\\Theta} = 2 \\overline{\\omega}\n",
    "\\end{equation}"
   ]
  },
  {
   "cell_type": "code",
   "execution_count": null,
   "metadata": {},
   "outputs": [],
   "source": [
    "for tr in [1]:\n",
    "    print(f\"Computing 2nd moments for Tracer {tr}\")\n",
    "    \n",
    "    ## LHS terms\n",
    "    ds[f'2cθ_dθdt_Tr0{tr}'] = (2*ds[f'TRAC0{tr}']*ds['θ']) * (ds['TOTTTEND']* day2seconds) * ds['dV']\n",
    "    ds[f'θ**2_dcdt_Tr0{tr}'] = ds['θ']**2 * (ds[f'Tp_gTr0{tr}'] * ds['dV'])\n",
    "    ds[f'd(θbar**2)dt_Tr0{tr}'] = 2*ds[f'θbar_Tr0{tr}']*ds[f'd(θbar)dt_Tr0{tr}']\n",
    "    \n",
    "    ## Full LHS\n",
    "    ds[f'd(θ**2bar)dt_Tr0{tr}'] = (\n",
    "        (ds[f'2cθ_dθdt_Tr0{tr}'].sum(dim=['Z', 'YC', 'XC']) / ds[f'M_Tr0{tr}']).compute() +\n",
    "        (ds[f'θ**2_dcdt_Tr0{tr}'].sum(dim=['Z', 'YC', 'XC']) / ds[f'M_Tr0{tr}']).compute()\n",
    "    )\n",
    "    \n",
    "    # Centered Full LHS\n",
    "    ds[f'd((θ-θbar)**2)bardt_Tr0{tr}'] = ds[f'd(θ**2bar)dt_Tr0{tr}'] - ds[f'd(θbar**2)dt_Tr0{tr}']\n",
    "    \n",
    "    # Gradients\n",
    "    ds['Gradθ**2'] = ds['dθdx']**2 + ds['dθdy']**2 + ds[f'dθdz']**2\n",
    "    ds[f'Gradθbar_Tr0{tr}'] = ((np.sqrt(ds['Gradθ**2'])*ds[f'TRAC0{tr}']*ds['dV']).sum(['Z', 'YC', 'XC']) / ds[f'M_Tr0{tr}']).compute()\n",
    "    ds[f'Gradθ**2bar_Tr0{tr}'] = ((ds['Gradθ**2']*ds[f'TRAC0{tr}']*ds['dV']).sum(['Z', 'YC', 'XC']) / ds[f'M_Tr0{tr}']).compute()\n",
    "    \n",
    "    ## In-situ diffusivity\n",
    "    ds[\"κ\"] = grid.interp(ds['KVDIFF'], 'Z', boundary='extend')\n",
    "    ds[f\"κbar_Tr0{tr}\"] = ((ds[\"κ\"]*ds[f'TRAC0{tr}']*ds['dV']).sum(['Z', 'YC', 'XC']) / ds[f'M_Tr0{tr}']).compute()\n",
    "    \n",
    "    ## Taylor diffusivity\n",
    "    ds[f'κGradθ**2bar_Tr0{tr}'] = ((ds['κ']*ds['Gradθ**2']*ds[f'TRAC0{tr}']*ds['dV']).sum(['Z', 'YC', 'XC']) / ds[f'M_Tr0{tr}']).compute()\n",
    "    ds[f\"κTaylor_Tr0{tr}\"] = ds[f'κGradθ**2bar_Tr0{tr}']/ds[f'Gradθ**2bar_Tr0{tr}']\n",
    "    \n",
    "    #### Buoyancy-velocity correlation term\n",
    "    ds[f\"θbar_Tr0{tr}\"] = ((ds['θ']*ds[f'TRAC0{tr}']*ds['dV']).sum(dim=['Z', 'YC', 'XC']) / ds[f'M_Tr0{tr}']).compute()\n",
    "    ds[f\"ωbarθbar_Tr0{tr}\"] = ds[f'ωbar_Tr0{tr}']*ds[f'θbar_Tr0{tr}']\n",
    "    ds[f\"_(ωθ)bar_Tr0{tr}\"] = (((ds['diff_tendency_TH']*ds['θ']) * ds[f'TRAC0{tr}']).sum(dim=['Z', 'YC', 'XC']) / ds[f'M_Tr0{tr}']).compute()\n",
    "    ds[f\"_(ωpθp)bar_Tr0{tr}\"] = ds[f\"_(ωθ)bar_Tr0{tr}\"] - ds[f\"ωbarθbar_Tr0{tr}\"]\n",
    "     \n",
    "    ## Omega diffusivity\n",
    "    ds[f\"κOmega_Tr0{tr}\"] = 2*ds[f\"_(ωpθp)bar_Tr0{tr}\"]/ds[f'Gradθ**2bar_Tr0{tr}']\n",
    "        \n",
    "    ## Bulk tracer diffusivity\n",
    "    ds[f'κTracer_Tr0{tr}'] = 0.5*ds[f'd((θ-θbar)**2)bardt_Tr0{tr}']/ds[f'Gradθ**2bar_Tr0{tr}']\n"
   ]
  },
  {
   "cell_type": "code",
   "execution_count": null,
   "metadata": {},
   "outputs": [],
   "source": [
    "saving = ds.copy()\n",
    "\n",
    "saving['time'].dims\n",
    "for dv in list(saving.data_vars)+list(saving.coords):\n",
    "    if (saving[dv].dims != ('Z_habC_bin',)) & (saving[dv].dims != ('time',)) & (saving[dv].dims != ('time', 'Z_habC_bin',)) :\n",
    "        saving = saving.drop_vars([dv])\n",
    "        \n",
    "saving.to_netcdf(\"../../data/BBTRE-tracer/tracer_moments_highk.nc\", mode='w')"
   ]
  },
  {
   "cell_type": "code",
   "execution_count": null,
   "metadata": {},
   "outputs": [],
   "source": []
  },
  {
   "cell_type": "code",
   "execution_count": null,
   "metadata": {},
   "outputs": [],
   "source": []
  },
  {
   "cell_type": "code",
   "execution_count": null,
   "metadata": {},
   "outputs": [],
   "source": []
  },
  {
   "cell_type": "code",
   "execution_count": null,
   "metadata": {},
   "outputs": [],
   "source": []
  },
  {
   "cell_type": "code",
   "execution_count": null,
   "metadata": {},
   "outputs": [],
   "source": []
  },
  {
   "cell_type": "code",
   "execution_count": null,
   "metadata": {},
   "outputs": [],
   "source": []
  },
  {
   "cell_type": "code",
   "execution_count": null,
   "metadata": {},
   "outputs": [],
   "source": []
  },
  {
   "cell_type": "code",
   "execution_count": null,
   "metadata": {},
   "outputs": [],
   "source": []
  }
 ],
 "metadata": {
  "kernelspec": {
   "display_name": "Python (bblturb-analysis)",
   "language": "python",
   "name": "bblturb-analysis"
  },
  "language_info": {
   "codemirror_mode": {
    "name": "ipython",
    "version": 3
   },
   "file_extension": ".py",
   "mimetype": "text/x-python",
   "name": "python",
   "nbconvert_exporter": "python",
   "pygments_lexer": "ipython3",
   "version": "3.9.2"
  }
 },
 "nbformat": 4,
 "nbformat_minor": 4
}
