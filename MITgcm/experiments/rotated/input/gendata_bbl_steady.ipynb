{
 "cells": [
  {
   "cell_type": "code",
   "execution_count": 43,
   "metadata": {},
   "outputs": [],
   "source": [
    "import sys\n",
    "import numpy as np\n",
    "import matplotlib.pyplot as plt\n",
    "import matplotlib.colors as colors\n",
    "from scipy.fftpack import fftn, ifftn"
   ]
  },
  {
   "cell_type": "markdown",
   "metadata": {},
   "source": [
    "### Configuration options"
   ]
  },
  {
   "cell_type": "code",
   "execution_count": 44,
   "metadata": {},
   "outputs": [
    {
     "data": {
      "text/plain": [
       "'../../MITgcm/experiments/rotated/input/'"
      ]
     },
     "execution_count": 44,
     "metadata": {},
     "output_type": "execute_result"
    }
   ],
   "source": [
    "rotatedFrame = True\n",
    "canyon = False\n",
    "hills = ''\n",
    "rest = False\n",
    "\n",
    "plotting = True\n",
    "Uinit = False\n",
    "\n",
    "exp_names = {\n",
    "    'rotatedFrame': ['unrotated', 'rotated'],\n",
    "    'canyon': ['', '_canyon'],\n",
    "    'hills': ['', '_'+hills],\n",
    "    'rest': ['', '_rest']\n",
    "}\n",
    "\n",
    "experiment_path = \"../../MITgcm/experiments/\"\n",
    "experiment_name = (\n",
    "    exp_names['rotatedFrame'][rotatedFrame] +\n",
    "    exp_names['hills'][len(hills)!=0] + \n",
    "    exp_names['canyon'][canyon] +\n",
    "    exp_names['rest'][rest]\n",
    ")\n",
    "input_path = experiment_path + experiment_name + '/input/'\n",
    "\n",
    "input_path"
   ]
  },
  {
   "cell_type": "markdown",
   "metadata": {},
   "source": [
    "### Physical parameters"
   ]
  },
  {
   "cell_type": "code",
   "execution_count": 45,
   "metadata": {},
   "outputs": [],
   "source": [
    "# environmental parameters\n",
    "N = 1.3e-3\n",
    "f = 0.53e-4\n",
    "\n",
    "gravity = 9.81\n",
    "tAlpha = 2.e-4\n",
    "\n",
    "# grid param\n",
    "nx = 256\n",
    "ny = 256\n",
    "nz = 280\n",
    "\n",
    "dx = 600\n",
    "dy = 600\n",
    "dz0 = 4\n",
    "nz_vary_frac = 0.65\n",
    "\n",
    "Lx = nx*dx\n",
    "Ly = ny*dy\n",
    "\n",
    "# topographic parameters\n",
    "slopeAngle = 2.e-3\n",
    "hill_height = 20.\n",
    "xhill_length = Lx/3\n",
    "yhill_length = Ly/3\n",
    "canyon_width = 5.e3\n",
    "canyon_depth = 300.\n",
    "\n",
    "# mixing parameters\n",
    "d = 230\n",
    "k0 = 5.2e-5\n",
    "k1 = 1.8e-3"
   ]
  },
  {
   "cell_type": "code",
   "execution_count": 46,
   "metadata": {},
   "outputs": [
    {
     "data": {
      "image/png": "[encoded data removed]",
      "text/plain": [
       "<Figure size 432x288 with 1 Axes>"
      ]
     },
     "metadata": {
      "needs_background": "light"
     },
     "output_type": "display_data"
    }
   ],
   "source": [
    "nz_vary = np.int(nz*nz_vary_frac)\n",
    "dz = dz0 * np.ones((nz))[:,np.newaxis,np.newaxis]*np.ones((nz,ny,nx))\n",
    "dz[nz_vary:,:,:] = dz[nz_vary,0,0]*1.0275**np.arange(0,nz-nz_vary,1.0)[:,np.newaxis,np.newaxis]*np.ones((nz-nz_vary,ny,nx))\n",
    "Hz = sum(dz[:,0,0])\n",
    "\n",
    "x = np.arange(dx/2.0,Lx,dx)[np.newaxis,np.newaxis,:]*np.ones((nz,ny,nx))\n",
    "y = np.arange(dy/2.0,Ly,dy)[np.newaxis,:,np.newaxis]*np.ones((nz,ny,nx))\n",
    "z = (-Hz + np.cumsum(dz,axis=0) - dz/2.0)\n",
    "\n",
    "if plotting:\n",
    "    plt.figure()\n",
    "    plt.plot(dz[:,0,0],z[:,0,0],\"r-+\")\n"
   ]
  },
  {
   "cell_type": "markdown",
   "metadata": {},
   "source": [
    "### Create topograpghy"
   ]
  },
  {
   "cell_type": "code",
   "execution_count": 47,
   "metadata": {},
   "outputs": [
    {
     "name": "stdout",
     "output_type": "stream",
     "text": [
      "Slope angle is: 0.002\n"
     ]
    },
    {
     "data": {
      "image/png": "[encoded data removed]",
      "text/plain": [
       "<Figure size 864x360 with 4 Axes>"
      ]
     },
     "metadata": {
      "needs_background": "light"
     },
     "output_type": "display_data"
    }
   ],
   "source": [
    "if rotatedFrame: mean_slope = 0.\n",
    "else: mean_slope = np.tan(slopeAngle)\n",
    "\n",
    "print(\"Slope angle is: \"+np.str(slopeAngle))\n",
    "\n",
    "Hbot = np.zeros_like(x)\n",
    "Hbot[0,:,:] = x[0,:,:]*mean_slope\n",
    "Hbot_flat = Hbot.copy()\n",
    "\n",
    "if hills == 'x-hills': Hbot += (hill_height/2)*(1. + np.cos(np.pi + 2*np.pi*x/xhill_length))\n",
    "elif hills == 'y-hills': Hbot += (hill_height/2)*(1. + np.cos(np.pi + 2*np.pi*y/yhill_length))\n",
    "elif hills == 'xy-hills': Hbot += (hill_height/2)*(1. + 0.5*(np.cos(np.pi + 2*np.pi*x/xhill_length) + np.cos(np.pi + 2*np.pi*y/yhill_length)))\n",
    "\n",
    "if canyon: Hbot += canyon_depth*(1. - np.exp( -(y-Ly/2)**2 / (2*canyon_width**2)))\n",
    "    \n",
    "Hbot = Hbot - (Hz - dz0)\n",
    "Hbot_flat = Hbot_flat - (Hz - dz0)\n",
    "if not(rotatedFrame): Hbot[:,:,0] = 0; Hbot[:,:,-1] = 0;\n",
    "\n",
    "if plotting:\n",
    "    plt.figure(figsize=(12,5))\n",
    "    plt.subplot(1,3,1)\n",
    "    plt.pcolor(x[0,:,:]*1e-3,y[0,:,:]*1e-3,Hbot[0,:,:])\n",
    "    plt.xlabel('zonal distance [km]')\n",
    "    plt.ylabel('meridional distance [km]')\n",
    "    plt.colorbar()\n",
    "    plt.clim([np.min(z),np.min(z)+900])\n",
    "\n",
    "    plt.subplot(1,3,2)\n",
    "    plt.plot(x[0,0,:]*1e-3,Hbot[0,ny//2,:])\n",
    "    plt.xlim([0,nx*dx*1e-3])\n",
    "    plt.xlabel('zonal distance [km]')\n",
    "    plt.ylabel('depth [m]')\n",
    "\n",
    "    plt.subplot(1,3,3)\n",
    "    plt.plot(y[0,:,0]*1e-3,Hbot[0,:,nx//2])\n",
    "    plt.xlim([0,ny*dy*1e-3])\n",
    "    plt.xlabel('zonal distance [km]')\n",
    "    plt.ylabel('depth [m]')\n",
    "    \n",
    "    plt.tight_layout()\n",
    "    plt.show()\n",
    "\n"
   ]
  },
  {
   "cell_type": "markdown",
   "metadata": {},
   "source": [
    "### Load initial condition"
   ]
  },
  {
   "cell_type": "code",
   "execution_count": 48,
   "metadata": {},
   "outputs": [],
   "source": [
    "output_path = '../../data/dedalus/basic_state'\n",
    "\n",
    "import h5py\n",
    "f = h5py.File(output_path+\"/output.h5\", 'r')\n",
    "\n",
    "data = f['tasks']\n",
    "z_1d = data['b'].dims[1]['z/1.0'][:]\n",
    "zf_1d = data['bz'].dims[1]['z/1.0'][:]\n",
    "\n",
    "b_1d = data['b'][-1,:]\n",
    "u_1d = data['u'][-1,:]\n",
    "v_1d = data['v'][-1,:]\n",
    "bz_1d = data['bz'][-1,:]\n",
    "\n",
    "T_1d = b_1d/(gravity*tAlpha)"
   ]
  },
  {
   "cell_type": "code",
   "execution_count": 49,
   "metadata": {},
   "outputs": [
    {
     "name": "stdout",
     "output_type": "stream",
     "text": [
      "Temperature Lapse Rate is: 0.0008613659531090722\n"
     ]
    },
    {
     "data": {
      "image/png": "[encoded data removed]",
      "text/plain": [
       "<Figure size 864x360 with 4 Axes>"
      ]
     },
     "metadata": {
      "needs_background": "light"
     },
     "output_type": "display_data"
    }
   ],
   "source": [
    "gamma = (N**2)/(gravity*tAlpha)\n",
    "gamma_eps = gamma*1.e-4\n",
    "\n",
    "if Uinit:\n",
    "    U = np.interp(z - Hbot_flat, z_1d, u_1d)\n",
    "    V = np.interp(z - Hbot_flat, z_1d, v_1d)\n",
    "else:\n",
    "    U = np.zeros((nz, ny, nx))\n",
    "    V = np.zeros((nz, ny, nx))\n",
    "if rest:\n",
    "    T = np.zeros((nz, ny, nx))\n",
    "else:\n",
    "    if not(rotatedFrame): T = gamma * (z+Hz);\n",
    "    else: T = np.interp(z - Hbot_flat, z_1d, T_1d)\n",
    "\n",
    "T += np.random.normal(size=(nz, ny, nx),scale=2.e-8)/(gravity*tAlpha) # Callies2018 initial perturbation\n",
    "\n",
    "print(\"Temperature Lapse Rate is: \"+np.str((N**2)/(gravity*tAlpha)))\n",
    "\n",
    "# generate 3D vertical eddy diffusivity field\n",
    "K = np.zeros((nz,ny,nx))\n",
    "for i in range(nx):\n",
    "    for j in range(ny):\n",
    "        K[:, j, i] = k0 + k1*np.exp(-(z[:,0,0] - Hbot[0,j,i])/d)\n",
    "K[K>(k1+k0)] = k1+k0\n",
    "\n",
    "if plotting:\n",
    "    plt.figure(figsize=(12,5))\n",
    "    \n",
    "    plt.subplot(1,2,1)\n",
    "    plt.pcolor(x[:,0,:]*1e-3,z[:,0,:],K[:,ny//2,:])\n",
    "    plt.xlabel('zonal distance [km]')\n",
    "    plt.ylabel('depth [m]')\n",
    "    plt.colorbar()\n",
    "    \n",
    "    plt.subplot(1,2,2)\n",
    "    plt.pcolor(y[:,:,0]*1e-3,z[:,:,0],K[:,:,nx//2])\n",
    "    plt.xlabel('zonal distance [km]')\n",
    "    plt.ylabel('depth [m]')\n",
    "    plt.colorbar()\n",
    "    \n",
    "    plt.tight_layout()\n",
    "    plt.show()"
   ]
  },
  {
   "cell_type": "code",
   "execution_count": null,
   "metadata": {},
   "outputs": [
    {
     "data": {
      "image/png": "[encoded data removed]",
      "text/plain": [
       "<Figure size 1296x360 with 8 Axes>"
      ]
     },
     "metadata": {
      "needs_background": "light"
     },
     "output_type": "display_data"
    }
   ],
   "source": [
    "if plotting:\n",
    "    plt.figure(figsize=(18,5))\n",
    "    \n",
    "    plt.subplot(1,4,1)\n",
    "    plt.pcolor(x[:,0,:]*1e-3,z[:,0,:],T[:,ny//2,:], cmap='RdBu_r')\n",
    "    plt.xlabel('zonal distance [km]')\n",
    "    plt.ylabel('depth [m]')\n",
    "    plt.colorbar(label='T [deg C]')\n",
    "    plt.clim([-0.5,0.5])\n",
    "    \n",
    "    plt.subplot(1,4,2)\n",
    "    if rest:\n",
    "        bz = np.zeros((nz, ny, nx))\n",
    "    else:\n",
    "        bz = np.interp(z - Hbot_flat, z_1d, bz_1d)\n",
    "    plt.pcolor(x[:,0,:]*1e-3,z[:,0,:],bz[:,ny//2,:]+N**2, cmap='RdBu_r')\n",
    "    plt.xlabel('zonal distance [km]')\n",
    "    plt.ylabel('depth [m]')\n",
    "    plt.colorbar(label=r'b$_{z}$ [s$^{-2}$]')\n",
    "    plt.clim([-2e-6,2e-6])\n",
    "    \n",
    "    plt.subplot(1,4,3)\n",
    "    plt.pcolor(x[:,0,:]*1e-3,z[:,0,:],U[:,ny//2,:], cmap='RdBu_r')\n",
    "    plt.xlabel('zonal distance [km]')\n",
    "    plt.ylabel('depth [m]')\n",
    "    plt.colorbar(label='u [m/s]')\n",
    "    plt.clim([-0.005,0.005])\n",
    "    \n",
    "    plt.subplot(1,4,4)\n",
    "    plt.pcolor(x[:,0,:]*1e-3,z[:,0,:],V[:,ny//2,:], cmap='RdBu_r')\n",
    "    plt.xlabel('zonal distance [km]')\n",
    "    plt.ylabel('depth [m]')\n",
    "    plt.colorbar(label='v [m/s]')\n",
    "    plt.clim([-0.02,0.02])\n",
    "    \n",
    "    plt.tight_layout()\n",
    "    plt.show()\n",
    "    \n",
    "    plt.figure(figsize=(18,5))\n",
    "    plt.subplot(1,4,1)\n",
    "    plt.pcolor(y[:,:,0]*1e-3,z[:,:,0],T[:,:,nx//2], cmap='RdBu_r')\n",
    "    plt.xlabel('zonal distance [km]')\n",
    "    plt.ylabel('depth [m]')\n",
    "    plt.colorbar(label='T [deg C]')\n",
    "    plt.clim([-0.5,0.5])\n",
    "    \n",
    "    plt.subplot(1,4,2)\n",
    "    plt.pcolor(y[:,:,0]*1e-3,z[:,:,0],bz[:,:,nx//2]+N**2, cmap='RdBu_r')\n",
    "    plt.xlabel('zonal distance [km]')\n",
    "    plt.ylabel('depth [m]')\n",
    "    plt.colorbar(label=r'b$_{z}$ [s$^{-2}$]')\n",
    "    plt.clim([-2e-6,2e-6])\n",
    "    \n",
    "    plt.subplot(1,4,3)\n",
    "    plt.pcolor(y[:,:,0]*1e-3,z[:,:,0],U[:,:,nx//2], cmap='RdBu_r')\n",
    "    plt.xlabel('zonal distance [km]')\n",
    "    plt.ylabel('depth [m]')\n",
    "    plt.colorbar(label='u [m/s]')\n",
    "    plt.clim([-0.005,0.005])\n",
    "    \n",
    "    plt.subplot(1,4,4)\n",
    "    plt.pcolor(y[:,:,0]*1e-3,z[:,:,0],V[:,:,nx//2], cmap='RdBu_r')\n",
    "    plt.xlabel('zonal distance [km]')\n",
    "    plt.ylabel('depth [m]')\n",
    "    plt.colorbar(label='v [m/s]')\n",
    "    plt.clim([-0.02,0.02])\n",
    "    \n",
    "    plt.tight_layout()\n",
    "    plt.show()"
   ]
  },
  {
   "cell_type": "code",
   "execution_count": null,
   "metadata": {},
   "outputs": [],
   "source": [
    "# Reverse vertical axis so first index is at the surface and transpose axes\n",
    "U = U[::-1,:,:]\n",
    "V = V[::-1,:,:]\n",
    "T = T[::-1,:,:]\n",
    "K = K[::-1,:,:]\n",
    "dz = dz[::-1,:1,:1]\n",
    "\n",
    "# save input data as binary files\n",
    "newFile = open(input_path+\"U.init\", \"wb\")\n",
    "newFile.write(bytes(U.astype('>f8')))\n",
    "newFile.close()\n",
    "\n",
    "newFile = open(input_path+\"V.init\", \"wb\")\n",
    "newFile.write(bytes(V.astype('>f8')))\n",
    "newFile.close()\n",
    "\n",
    "newFile = open(input_path+\"T.init\", \"wb\")\n",
    "newFile.write(bytes(T.astype('>f8')))\n",
    "newFile.close()\n",
    "\n",
    "newFile = open(input_path+\"kappa.init\", \"wb\")\n",
    "newFile.write(bytes(K.astype('>f8')))\n",
    "newFile.close()\n",
    "\n",
    "newFile = open(input_path+\"topog.init\", \"wb\")\n",
    "newFile.write(bytes(Hbot[0,:,:].astype('>f8')))\n",
    "newFile.close()\n",
    "\n",
    "newFile = open(input_path+\"delZ.init\", \"wb\")\n",
    "newFile.write(bytes(dz[:,0,0].astype('>f8')))\n",
    "newFile.close()"
   ]
  },
  {
   "cell_type": "code",
   "execution_count": null,
   "metadata": {},
   "outputs": [],
   "source": [
    "import os\n",
    "os.system(f\"cp ./gendata_bbl_steady.ipynb {input_path}\");"
   ]
  },
  {
   "cell_type": "code",
   "execution_count": null,
   "metadata": {},
   "outputs": [],
   "source": []
  },
  {
   "cell_type": "code",
   "execution_count": null,
   "metadata": {},
   "outputs": [],
   "source": [
    "\n"
   ]
  }
 ],
 "metadata": {
  "kernelspec": {
   "display_name": "Python 3",
   "language": "python",
   "name": "python3"
  },
  "language_info": {
   "codemirror_mode": {
    "name": "ipython",
    "version": 3
   },
   "file_extension": ".py",
   "mimetype": "text/x-python",
   "name": "python",
   "nbconvert_exporter": "python",
   "pygments_lexer": "ipython3",
   "version": "3.8.1"
  }
 },
 "nbformat": 4,
 "nbformat_minor": 4
}
