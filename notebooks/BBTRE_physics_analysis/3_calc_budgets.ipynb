{
 "cells": [
  {
   "cell_type": "code",
   "execution_count": 26,
   "metadata": {},
   "outputs": [
    {
     "name": "stdout",
     "output_type": "stream",
     "text": [
      "The autoreload extension is already loaded. To reload it, use:\n",
      "  %reload_ext autoreload\n"
     ]
    }
   ],
   "source": [
    "%load_ext autoreload\n",
    "%autoreload 2"
   ]
  },
  {
   "cell_type": "code",
   "execution_count": 27,
   "metadata": {},
   "outputs": [],
   "source": [
    "import numpy as np\n",
    "import dask\n",
    "import xarray as xr\n",
    "import xmitgcm\n",
    "from xmitgcm import open_mdsdataset\n",
    "from xhistogram.xarray import histogram\n",
    "\n",
    "from matplotlib import cm\n",
    "import matplotlib.colors as colors\n",
    "import numpy as np\n",
    "\n",
    "def truncate_colormap(cmap, minval=0.0, maxval=1.0, n=100):\n",
    "    new_cmap = colors.LinearSegmentedColormap.from_list(\n",
    "        'trunc({n},{a:.2f},{b:.2f})'.format(n=cmap.name, a=minval, b=maxval),\n",
    "        cmap(np.linspace(minval, maxval, n)))\n",
    "    return new_cmap\n",
    "\n",
    "from bbl import *\n",
    "from osse import *\n",
    "from canyon_utils import *\n",
    "from sloped_MITgcm import *"
   ]
  },
  {
   "cell_type": "code",
   "execution_count": 28,
   "metadata": {},
   "outputs": [],
   "source": [
    "# Constant parameters\n",
    "\n",
    "Γ = 0.0008613659531090722\n",
    "N = np.sqrt(g*α*Γ)\n",
    "θ = 1.26E-3\n",
    "f = -5.3e-5\n",
    "\n",
    "h = 230\n",
    "k0 = 5.2e-5\n",
    "k1 = 1.8e-3\n",
    "\n",
    "dx = 600.; dy = 600.\n",
    "delta_t = 15."
   ]
  },
  {
   "cell_type": "markdown",
   "metadata": {},
   "source": [
    "### Loading output and pre-processing"
   ]
  },
  {
   "cell_type": "code",
   "execution_count": 29,
   "metadata": {},
   "outputs": [
    {
     "name": "stderr",
     "output_type": "stream",
     "text": [
      "/home/hdrake/.conda/envs/bblturb-analysis/lib/python3.8/site-packages/pandas/core/indexes/base.py:4291: FutureWarning: Using a non-tuple sequence for multidimensional indexing is deprecated; use `arr[tuple(seq)]` instead of `arr[seq]`. In the future this will be interpreted as an array index, `arr[np.array(seq)]`, which will result either in an error or a different result.\n",
      "  result = getitem(key)\n",
      "/home/hdrake/.conda/envs/bblturb-analysis/lib/python3.8/site-packages/dask/core.py:121: RuntimeWarning: invalid value encountered in true_divide\n",
      "  return func(*(_execute_task(a, cache) for a in args))\n"
     ]
    },
    {
     "name": "stdout",
     "output_type": "stream",
     "text": [
      "Budget closes:  True  (over 5 timesteps).\n"
     ]
    },
    {
     "name": "stderr",
     "output_type": "stream",
     "text": [
      "/home/hdrake/.conda/envs/bblturb-analysis/lib/python3.8/site-packages/dask/core.py:121: RuntimeWarning: invalid value encountered in true_divide\n",
      "  return func(*(_execute_task(a, cache) for a in args))\n"
     ]
    },
    {
     "name": "stdout",
     "output_type": "stream",
     "text": [
      "Budget closes:  True  (over 5 timesteps).\n"
     ]
    },
    {
     "name": "stderr",
     "output_type": "stream",
     "text": [
      "/home/hdrake/.conda/envs/bblturb-analysis/lib/python3.8/site-packages/dask/core.py:121: RuntimeWarning: invalid value encountered in true_divide\n",
      "  return func(*(_execute_task(a, cache) for a in args))\n"
     ]
    },
    {
     "name": "stdout",
     "output_type": "stream",
     "text": [
      "Budget closes:  True  (over 13 timesteps).\n"
     ]
    },
    {
     "name": "stderr",
     "output_type": "stream",
     "text": [
      "/home/hdrake/.conda/envs/bblturb-analysis/lib/python3.8/site-packages/dask/core.py:121: RuntimeWarning: invalid value encountered in true_divide\n",
      "  return func(*(_execute_task(a, cache) for a in args))\n"
     ]
    },
    {
     "name": "stdout",
     "output_type": "stream",
     "text": [
      "Budget closes:  True  (over 25 timesteps).\n"
     ]
    },
    {
     "name": "stderr",
     "output_type": "stream",
     "text": [
      "/home/hdrake/.conda/envs/bblturb-analysis/lib/python3.8/site-packages/dask/core.py:121: RuntimeWarning: invalid value encountered in true_divide\n",
      "  return func(*(_execute_task(a, cache) for a in args))\n"
     ]
    },
    {
     "name": "stdout",
     "output_type": "stream",
     "text": [
      "Budget closes:  True  (over 45 timesteps).\n"
     ]
    }
   ],
   "source": [
    "experiments = [\"idealized-plane-1D\", \"idealized-plane\", \"idealized-canyon\", \"idealized-sill\", \"canyon-tracer\"]\n",
    "data = {}\n",
    "\n",
    "for exp in experiments:\n",
    "    data_dir = f\"../../MITgcm/experiments/rotated_BBTRE_{exp}/run/\"\n",
    "    ds = open_mdsdataset(data_dir, ignore_unknown_vars=True, prefix=[\"budgetDiag\"], delta_t=delta_t)\n",
    "    if exp=='canyon-tracer':\n",
    "        ds=ds.sel(time=ds['time'][::10])\n",
    "    else:\n",
    "        ds=ds.sel(time=ds['time'][::2])\n",
    "    #ds = ds.isel(time=[-1]) # COMMENT OUT THIS LINE IN PRODUCTION\n",
    "    ds = add_thalweg(ds)\n",
    "    ds, grid = add_rotated_coords(ds, θ)\n",
    "    ds = add_temp_budget(ds, grid, Γ, θ)\n",
    "    \n",
    "    # Stratification and masks\n",
    "    ds['Nsq'] = g*α*(Γ +\n",
    "            (grid.diff(ds['THETA'].where(ds['hFacC']!=0.), 'Z', boundary='fill')) /\n",
    "            grid.interp(-ds['drF'], 'Z', boundary='extend')\n",
    "    ).chunk({'Zl':-1})\n",
    "    ds['Nsq_trough'] = irregular_section(ds['Nsq'], ds['j_thalweg'].values, width=5)\n",
    "    ds['Nsq_outside'] = irregular_section(ds['Nsq'], ds['j_thalweg'].values, width=21, invert_mask=True)\n",
    "    ds['Nsq_flanks'] = ds['Nsq'].where((np.isnan(ds['Nsq_trough'])) & (np.isnan(ds['Nsq_outside'])))\n",
    "\n",
    "    \n",
    "    ds = ds.reset_coords(['Depth'])\n",
    "    ds['time'] = ds['time'].astype('float64')*1e-9/86400.\n",
    "    print(\"Budget closes: \", check_temp_budget_closes(ds), f\" (over {ds['time'].size} timesteps).\", end='\\n')\n",
    "    \n",
    "    data[exp] = {'ds': ds, 'grid': grid}"
   ]
  },
  {
   "cell_type": "markdown",
   "metadata": {},
   "source": [
    "### Computing derived variables"
   ]
  },
  {
   "cell_type": "code",
   "execution_count": 30,
   "metadata": {},
   "outputs": [
    {
     "name": "stderr",
     "output_type": "stream",
     "text": [
      "/home/hdrake/.conda/envs/bblturb-analysis/lib/python3.8/site-packages/dask/core.py:121: RuntimeWarning: invalid value encountered in true_divide\n",
      "  return func(*(_execute_task(a, cache) for a in args))\n",
      "/home/hdrake/.conda/envs/bblturb-analysis/lib/python3.8/site-packages/dask/array/numpy_compat.py:40: RuntimeWarning: invalid value encountered in true_divide\n",
      "  x = np.divide(x1, x2, out)\n",
      "/home/hdrake/.conda/envs/bblturb-analysis/lib/python3.8/site-packages/dask/array/numpy_compat.py:40: RuntimeWarning: invalid value encountered in true_divide\n",
      "  x = np.divide(x1, x2, out)\n",
      "/home/hdrake/.conda/envs/bblturb-analysis/lib/python3.8/site-packages/dask/array/numpy_compat.py:40: RuntimeWarning: invalid value encountered in true_divide\n",
      "  x = np.divide(x1, x2, out)\n",
      "/home/hdrake/.conda/envs/bblturb-analysis/lib/python3.8/site-packages/dask/array/numpy_compat.py:40: RuntimeWarning: invalid value encountered in true_divide\n",
      "  x = np.divide(x1, x2, out)\n",
      "/home/hdrake/.conda/envs/bblturb-analysis/lib/python3.8/site-packages/dask/array/numpy_compat.py:40: RuntimeWarning: invalid value encountered in true_divide\n",
      "  x = np.divide(x1, x2, out)\n",
      "/home/hdrake/.conda/envs/bblturb-analysis/lib/python3.8/site-packages/dask/array/numpy_compat.py:40: RuntimeWarning: invalid value encountered in true_divide\n",
      "  x = np.divide(x1, x2, out)\n",
      "/home/hdrake/.conda/envs/bblturb-analysis/lib/python3.8/site-packages/dask/core.py:121: RuntimeWarning: invalid value encountered in true_divide\n",
      "  return func(*(_execute_task(a, cache) for a in args))\n",
      "/home/hdrake/.conda/envs/bblturb-analysis/lib/python3.8/site-packages/dask/array/numpy_compat.py:40: RuntimeWarning: invalid value encountered in true_divide\n",
      "  x = np.divide(x1, x2, out)\n",
      "/home/hdrake/.conda/envs/bblturb-analysis/lib/python3.8/site-packages/dask/array/numpy_compat.py:40: RuntimeWarning: invalid value encountered in true_divide\n",
      "  x = np.divide(x1, x2, out)\n",
      "/home/hdrake/.conda/envs/bblturb-analysis/lib/python3.8/site-packages/dask/array/numpy_compat.py:40: RuntimeWarning: invalid value encountered in true_divide\n",
      "  x = np.divide(x1, x2, out)\n",
      "/home/hdrake/.conda/envs/bblturb-analysis/lib/python3.8/site-packages/dask/array/numpy_compat.py:40: RuntimeWarning: invalid value encountered in true_divide\n",
      "  x = np.divide(x1, x2, out)\n",
      "/home/hdrake/.conda/envs/bblturb-analysis/lib/python3.8/site-packages/dask/array/numpy_compat.py:40: RuntimeWarning: invalid value encountered in true_divide\n",
      "  x = np.divide(x1, x2, out)\n",
      "/home/hdrake/.conda/envs/bblturb-analysis/lib/python3.8/site-packages/dask/core.py:121: RuntimeWarning: invalid value encountered in true_divide\n",
      "  return func(*(_execute_task(a, cache) for a in args))\n",
      "/home/hdrake/.conda/envs/bblturb-analysis/lib/python3.8/site-packages/dask/array/numpy_compat.py:40: RuntimeWarning: invalid value encountered in true_divide\n",
      "  x = np.divide(x1, x2, out)\n",
      "/home/hdrake/.conda/envs/bblturb-analysis/lib/python3.8/site-packages/dask/core.py:121: RuntimeWarning: invalid value encountered in true_divide\n",
      "  return func(*(_execute_task(a, cache) for a in args))\n",
      "/home/hdrake/.conda/envs/bblturb-analysis/lib/python3.8/site-packages/dask/array/numpy_compat.py:40: RuntimeWarning: invalid value encountered in true_divide\n",
      "  x = np.divide(x1, x2, out)\n",
      "/home/hdrake/.conda/envs/bblturb-analysis/lib/python3.8/site-packages/dask/core.py:121: RuntimeWarning: invalid value encountered in true_divide\n",
      "  return func(*(_execute_task(a, cache) for a in args))\n",
      "/home/hdrake/.conda/envs/bblturb-analysis/lib/python3.8/site-packages/dask/array/numpy_compat.py:40: RuntimeWarning: invalid value encountered in true_divide\n",
      "  x = np.divide(x1, x2, out)\n"
     ]
    }
   ],
   "source": [
    "budget_vars = [\n",
    "    'total_tendency_TH_truth', 'total_tendency_TH',\n",
    "    'diff_tendency_TH', 'adv_tendency_TH',\n",
    "    'conv_adv_flux_anom_TH', 'conv_vert_adv_flux_TH'\n",
    "]\n",
    "\n",
    "for exp in experiments:\n",
    "    ds = data[exp]['ds']\n",
    "    ds_mean = ds[budget_vars].mean(dim='time').sum(dim=['XC','YC'], skipna=True).compute()\n",
    "    \n",
    "    Lx, Ly = ds.XC.size*dx, ds.YC.size*dy\n",
    "    Ly_ref = 60.e3\n",
    "    cint = k0*Γ*np.cos(θ)*Ly*Lx\n",
    "    cbot = k1*Γ*np.cos(θ)*Ly*Lx\n",
    "    \n",
    "    # Coarsened budget terms for plots\n",
    "    for var in budget_vars:\n",
    "        ds_mean[var+\"_K-per-year\"] = (ds_mean[var]/(ds_mean['drF']*Lx*Ly)*(86400.*365.)).coarsen(Z=4).mean().rename({'Z': 'Z_coarse'})\n",
    "        ds_mean[var+\"_cumint_mSv\"] = (np.cumsum(ds_mean[var][::-1])[::-1]/(Γ*np.sin(θ)*Lx*Ly)*(Ly_ref*1e-3))\n",
    "\n",
    "    # Stratification \n",
    "    ds = add_hab_coordinates(ds, grid, vert_coord='Zl', gridface='C')\n",
    "    ds_mean = ds_mean.assign_coords({'Zl_habC': ds['Zl_habC']})\n",
    "    ds_mean['Nsq'] = hab_interp(ds['Nsq'], vert_coord='Zl').mean(['time', 'XC', 'YC'], skipna=True).compute()\n",
    "    for region in ['trough', 'flanks', 'outside']:\n",
    "        ds_mean[f'Nsq_{region}'] = (\n",
    "            hab_interp(ds[f'Nsq_{region}'], vert_coord='Zl').mean(['time', 'XC', 'YC'], skipna=True).compute()\n",
    "        )\n",
    "        \n",
    "    # Misc. variables used for plotting\n",
    "    ds_mean['Depth'] = ds['Depth']\n",
    "    crest_HAMS = irregular_section(ds['Depth'], ds['j_thalweg'].values, width=35, invert_mask=True)\n",
    "    ds_mean['crest_HAMS'] = ds['Depth'].max().values - (crest_HAMS.mean(['XC', 'YC'], skipna=True).values)\n",
    "    ds_mean['YC_thalweg'] = ds['YC_thalweg']\n",
    "    \n",
    "    # Fill output dictionary\n",
    "    data[exp]['ds_mean'] = ds_mean"
   ]
  },
  {
   "cell_type": "markdown",
   "metadata": {},
   "source": [
    "## Saving calculations"
   ]
  },
  {
   "cell_type": "markdown",
   "metadata": {},
   "source": [
    "#### Save budget terms"
   ]
  },
  {
   "cell_type": "code",
   "execution_count": 31,
   "metadata": {},
   "outputs": [],
   "source": [
    "for exp in experiments:\n",
    "    saving = data[exp]['ds_mean'].copy()\n",
    "    saving.to_netcdf(f\"../../data/BBTRE-physics/buoyancy_{exp}.nc\")"
   ]
  },
  {
   "cell_type": "code",
   "execution_count": null,
   "metadata": {},
   "outputs": [],
   "source": []
  }
 ],
 "metadata": {
  "kernelspec": {
   "display_name": "Python 3",
   "language": "python",
   "name": "python3"
  },
  "language_info": {
   "codemirror_mode": {
    "name": "ipython",
    "version": 3
   },
   "file_extension": ".py",
   "mimetype": "text/x-python",
   "name": "python",
   "nbconvert_exporter": "python",
   "pygments_lexer": "ipython3",
   "version": "3.8.1"
  }
 },
 "nbformat": 4,
 "nbformat_minor": 4
}
