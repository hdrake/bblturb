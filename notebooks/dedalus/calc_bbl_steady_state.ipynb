{
 "cells": [
  {
   "cell_type": "markdown",
   "metadata": {},
   "source": [
    "# Solving the Phillips-Wunsch-Garrett IVP with non-constant coefficients using Dedalus"
   ]
  },
  {
   "cell_type": "code",
   "execution_count": 1,
   "metadata": {},
   "outputs": [],
   "source": [
    "%matplotlib inline\n",
    "import numpy as np\n",
    "import matplotlib.pyplot as plt\n",
    "import h5py\n",
    "from dedalus import public as de\n",
    "from dedalus.extras import flow_tools\n",
    "from dedalus.extras import plot_tools\n",
    "from dedalus.tools import post\n",
    "import pathlib\n",
    "import time\n",
    "from IPython import display\n",
    "\n",
    "import logging\n",
    "root = logging.root\n",
    "for h in root.handlers:\n",
    "    h.setLevel(\"INFO\")\n",
    "\n",
    "logger = logging.getLogger(__name__)"
   ]
  },
  {
   "cell_type": "markdown",
   "metadata": {},
   "source": [
    "# Problem formulation\n",
    "\n",
    "### Physical parameters"
   ]
  },
  {
   "cell_type": "code",
   "execution_count": 2,
   "metadata": {},
   "outputs": [],
   "source": [
    "N = 1.3e-3\n",
    "f = 0.53e-4\n",
    "\n",
    "# topographic parameters\n",
    "slopeAngle = 2.e-3\n",
    "tht = slopeAngle\n",
    "\n",
    "# mixing parameters\n",
    "d = 230\n",
    "k0 = 5.2e-5\n",
    "k1 = 1.8e-3\n",
    "Pr = 1"
   ]
  },
  {
   "cell_type": "code",
   "execution_count": 3,
   "metadata": {},
   "outputs": [],
   "source": [
    "def calc_delta():\n",
    "    return ((4*Pr**2*(k0+k1)**2) / (f**2*np.cos(tht)**2 * (1 + (N**2*np.tan(tht)**2/(f**2))*Pr)))**0.25"
   ]
  },
  {
   "cell_type": "code",
   "execution_count": 4,
   "metadata": {},
   "outputs": [
    {
     "name": "stdout",
     "output_type": "stream",
     "text": [
      "2020-02-25 13:21:14,240 pencil 0/1 INFO :: Building pencil matrix 1/1 (~100%) Elapsed: 0s, Remaining: 0s, Rate: 1.0e+01/s\n",
      "Years: \n"
     ]
    },
    {
     "name": "stderr",
     "output_type": "stream",
     "text": [
      "/home/hdrake/.conda/envs/bblturb/lib/python3.7/site-packages/dedalus/core/evaluator.py:533: H5pyDeprecationWarning: other_ds.dims.create_scale(ds, name) is deprecated. Use ds.make_scale(name) instead.\n",
      "  dset.dims.create_scale(scale, sn)\n",
      "/home/hdrake/.conda/envs/bblturb/lib/python3.7/site-packages/dedalus/core/evaluator.py:550: H5pyDeprecationWarning: other_ds.dims.create_scale(ds, name) is deprecated. Use ds.make_scale(name) instead.\n",
      "  dset.dims.create_scale(scale, lookup)\n"
     ]
    },
    {
     "name": "stdout",
     "output_type": "stream",
     "text": [
      "100.0, 200.0, 300.0, 400.0, 500.0, 600.0, 700.0, 800.0, 900.0, 1000.0, 1100.0, 1200.0, 1300.0, 1400.0, 1500.0, 1600.0, 1700.0, 1800.0, 1900.0, 2000.0, 2100.0, 2200.0, 2300.0, 2400.0, 2500.0, 2600.0, 2700.0, 2800.0, 2900.0, 3000.0, 3100.0, 3200.0, 3300.0, 3400.0, 3500.0, 3600.0, 3700.0, 3800.0, 3900.0, 4000.0, 4100.0, 4200.0, 4300.0, 4400.0, 4500.0, 4600.0, 4700.0, 4800.0, 4900.0, 5000.0, 2020-02-25 13:22:34,810 solvers 0/1 INFO :: Simulation stop time reached.\n",
      "Runtime: 80.56490731239319\n"
     ]
    }
   ],
   "source": [
    "#===== Set up domain =====\n",
    "# Create basis and domain for all experiments\n",
    "Lz = 4000\n",
    "nz = 512\n",
    "z_basis = de.Chebyshev('z', nz, interval=(0, Lz), dealias=3/2)\n",
    "domain = de.Domain([z_basis],np.float64)\n",
    "z = domain.grid(0)\n",
    "\n",
    "#===== Set up Problem ======\n",
    "problem = de.IVP(domain, variables=['u', 'v', 'b', 'uz', 'vz', 'bz']);\n",
    "\n",
    "# Set parameters\n",
    "problem.parameters['f'] = f\n",
    "problem.parameters['tht'] = tht # set in loop\n",
    "problem.parameters['N'] = N\n",
    "k = domain.new_field(name='k')\n",
    "k['g'] = k0+k1*np.exp(-z/d)\n",
    "problem.parameters['k'] = k\n",
    "\n",
    "nu = domain.new_field(name='nu')\n",
    "nu['g'] = (k0+k1*np.exp(-z/d))*Pr\n",
    "problem.parameters['nu'] = nu\n",
    "\n",
    "# Main equations\n",
    "problem.add_equation(\"-f*cos(tht)*v - sin(tht)*b - dz(nu*uz) = 0\")\n",
    "problem.add_equation(\"f*u*cos(tht) - dz(nu*vz) = 0\")\n",
    "problem.add_equation(\"dt(b) + N**2*sin(tht)*u - dz(k*bz) = N**2*cos(tht)*dz(k)\")\n",
    "\n",
    "# Auxiliary equations defining the first-order reduction\n",
    "problem.add_equation(\"uz - dz(u) = 0\")\n",
    "problem.add_equation(\"vz - dz(v) = 0\")\n",
    "problem.add_equation(\"bz - dz(b) = 0\")\n",
    "\n",
    "# Boundary conditions\n",
    "problem.add_bc('left(u) = 0')\n",
    "problem.add_bc('left(v) = 0')\n",
    "problem.add_bc('left(bz) = - N**2*cos(tht)')\n",
    "problem.add_bc('right(uz) = 0')\n",
    "problem.add_bc('right(vz) = 0')\n",
    "problem.add_bc('right(bz) = 0')\n",
    "\n",
    "# Set solver for IVP\n",
    "solver = problem.build_solver(de.timesteppers.RK443);\n",
    "\n",
    "#==== Set initial conditions ====\n",
    "# Reference local grid and state fields\n",
    "z = domain.grid(0)\n",
    "u = solver.state['u']\n",
    "v = solver.state['v']\n",
    "b = solver.state['b']\n",
    "uz = solver.state['uz']\n",
    "vz = solver.state['vz']\n",
    "bz = solver.state['bz']\n",
    "\n",
    "# State from a state of rest\n",
    "u['g'] = np.zeros_like(z)\n",
    "v['g'] = np.zeros_like(z)\n",
    "b['g'] = np.zeros_like(z)\n",
    "u.differentiate('z', out=uz)\n",
    "v.differentiate('z', out=vz)\n",
    "b.differentiate('z', out=bz)\n",
    "\n",
    "\n",
    "#==== Create analysis files ====\n",
    "output_path = '../../data/dedalus/basic_state'\n",
    "analysis = solver.evaluator.add_file_handler(output_path, iter=10*365)\n",
    "analysis.add_system(solver.state, layout='g')\n",
    "\n",
    "# Stop stopping criteria\n",
    "solver.stop_sim_time = (5000.*365.*24.*60.*60.)\n",
    "solver.stop_wall_time = np.inf\n",
    "solver.stop_iteration = np.inf\n",
    "\n",
    "# Main loop\n",
    "dt = 365*24*60.*60.\n",
    "start_time = time.time()\n",
    "print('Years: ')\n",
    "while solver.ok:\n",
    "    solver.step(dt);\n",
    "    if solver.sim_time % (100*365.*24.*60.*60.) == 0:\n",
    "        print(solver.sim_time/(365.*24.*60.*60.), end=\", \")\n",
    "        \n",
    "end_time = time.time()\n",
    "print('Runtime:', end_time-start_time)\n",
    "z_da = domain.grid(0, scales=domain.dealias)"
   ]
  },
  {
   "cell_type": "code",
   "execution_count": 5,
   "metadata": {},
   "outputs": [
    {
     "name": "stdout",
     "output_type": "stream",
     "text": [
      "2020-02-25 13:22:34,822 post 0/1 INFO :: Merging files from ../../data/dedalus/basic_state\n",
      "2020-02-25 13:22:34,918 post 0/1 INFO :: Creating joint file ../../data/dedalus/basic_state/output.h5\n"
     ]
    },
    {
     "name": "stderr",
     "output_type": "stream",
     "text": [
      "/home/hdrake/.conda/envs/bblturb/lib/python3.7/site-packages/dedalus/tools/post.py:230: H5pyDeprecationWarning: other_ds.dims.create_scale(ds, name) is deprecated. Use ds.make_scale(name) instead.\n",
      "  joint_dset.dims.create_scale(scale, scalename)\n",
      "/home/hdrake/.conda/envs/bblturb/lib/python3.7/site-packages/dedalus/tools/post.py:349: H5pyDeprecationWarning: other_ds.dims.create_scale(ds, name) is deprecated. Use ds.make_scale(name) instead.\n",
      "  joint_dset.dims.create_scale(scale, scale_name)\n"
     ]
    }
   ],
   "source": [
    "from dedalus.tools import post\n",
    "import pathlib\n",
    "import os\n",
    "post.merge_process_files(output_path, cleanup=True)\n",
    "set_paths = list(pathlib.Path(output_path).glob(\"basic_state_s*.h5\"))\n",
    "import os\n",
    "os.system(f\"rm -f {output_path}/output.h5\")\n",
    "post.merge_sets(output_path+\"/output.h5\", set_paths, cleanup=True)"
   ]
  },
  {
   "cell_type": "code",
   "execution_count": null,
   "metadata": {},
   "outputs": [],
   "source": []
  },
  {
   "cell_type": "code",
   "execution_count": null,
   "metadata": {},
   "outputs": [],
   "source": []
  }
 ],
 "metadata": {
  "kernelspec": {
   "display_name": "Python 3",
   "language": "python",
   "name": "python3"
  },
  "language_info": {
   "codemirror_mode": {
    "name": "ipython",
    "version": 3
   },
   "file_extension": ".py",
   "mimetype": "text/x-python",
   "name": "python",
   "nbconvert_exporter": "python",
   "pygments_lexer": "ipython3",
   "version": "3.7.6"
  }
 },
 "nbformat": 4,
 "nbformat_minor": 4
}
