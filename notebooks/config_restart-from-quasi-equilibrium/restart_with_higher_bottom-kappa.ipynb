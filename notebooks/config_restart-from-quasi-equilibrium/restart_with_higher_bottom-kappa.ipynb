{
 "cells": [
  {
   "cell_type": "code",
   "execution_count": 1,
   "metadata": {},
   "outputs": [],
   "source": [
    "%load_ext autoreload\n",
    "%autoreload 2"
   ]
  },
  {
   "cell_type": "code",
   "execution_count": 2,
   "metadata": {},
   "outputs": [],
   "source": [
    "import sys\n",
    "import os\n",
    "sys.path.append(\"../BBTRE_physics_analysis/\") "
   ]
  },
  {
   "cell_type": "code",
   "execution_count": 3,
   "metadata": {},
   "outputs": [],
   "source": [
    "import numpy as np\n",
    "from xmitgcm import open_mdsdataset \n",
    "from xhistogram.xarray import histogram\n",
    "\n",
    "from osse import *\n",
    "from canyon_utils import *\n",
    "from sloped_MITgcm import *"
   ]
  },
  {
   "cell_type": "code",
   "execution_count": 5,
   "metadata": {},
   "outputs": [],
   "source": [
    "def checklist():\n",
    "    return f\"\"\"Checklist for running variable resolution experiments:\n",
    "\n",
    "Directory structure:\n",
    "  [x] Copy input and code files from reference simulation\n",
    "  [x] Run Jupyter notebook to create input files\n",
    "\n",
    "/input files:\n",
    "  data\n",
    "    [ ] Change iter0 to 0\n",
    "  data.diagnostics\n",
    "    [ ] Turn off other Ptracers\n",
    "\n",
    "[ ] Submit execution batch script\n",
    "[ ] Check that the job runs succesfully!\n",
    "\"\"\""
   ]
  },
  {
   "cell_type": "code",
   "execution_count": 6,
   "metadata": {},
   "outputs": [],
   "source": [
    "Γ = 0.0008613659531090722\n",
    "N = np.sqrt(g*α*Γ)\n",
    "θ = 1.26E-3\n",
    "f = 5.3e-5\n",
    "\n",
    "h = 230\n",
    "k0 = 5.2e-5\n",
    "k1 = 1.8e-3\n",
    "\n",
    "dx = 600.\n",
    "delta_t = 15."
   ]
  },
  {
   "cell_type": "code",
   "execution_count": 7,
   "metadata": {},
   "outputs": [],
   "source": [
    "data_dir = f\"../../MITgcm/experiments/rotated_BBTRE_canyon-tracer/run/\"\n",
    "ds = open_mdsdataset(data_dir,ignore_unknown_vars=True,prefix=[\"budgetDiag\"], delta_t=delta_t)\n",
    "ds = ds.isel(time=0)\n",
    "ds, grid = add_rotated_coords(ds, θ)\n",
    "\n",
    "geo = xr.open_dataset(data_dir+\"geocoords.nc\")\n",
    "ds['Depth_actual'] = xr.zeros_like(ds['Depth']) - geo['z_actual'].values\n",
    "\n",
    "dx = 600.; dy = 600.;\n",
    "Ly = ds.YC.size*dy\n",
    "Lx = ds.XC.size*dx\n",
    "\n",
    "ds.attrs[\"dx\"] = dx;\n",
    "ds.attrs[\"dy\"] = dy;\n",
    "ds.attrs[\"Lx\"] = Lx;\n",
    "ds.attrs[\"Ly\"] = Ly;\n",
    "\n",
    "ds = ds.assign_coords({\"Depth\": -ds.Depth})\n",
    "\n",
    "# Double the background diffusivity\n",
    "ds[\"KVDIFF\"] = (ds[\"KVDIFF\"] - k0)*2.5 + k0"
   ]
  },
  {
   "cell_type": "markdown",
   "metadata": {},
   "source": [
    "### Create input files from last snapshot of model output"
   ]
  },
  {
   "cell_type": "code",
   "execution_count": 8,
   "metadata": {},
   "outputs": [
    {
     "name": "stdout",
     "output_type": "stream",
     "text": [
      "\n",
      "../../MITgcm/experiments/rotated_BBTRE_canyon-tracer-2xkappa/input/\n",
      " (Checklist file already exists!)\n"
     ]
    }
   ],
   "source": [
    "input_vars = {\n",
    "    \"UVEL\": \"U\",\n",
    "    \"VVEL\": \"V\",\n",
    "    \"THETA\": \"T\",\n",
    "    \"KVDIFF\": \"kappa\",\n",
    "    \"Depth\": \"topog\",\n",
    "    \"drF\": \"delZ\"\n",
    "}\n",
    "\n",
    "input_path = f\"../../MITgcm/experiments/rotated_BBTRE_canyon-tracer-2xkappa/input/\"\n",
    "print(f\"\\n{input_path}\")\n",
    "new_ds = ds.copy()\n",
    "\n",
    "for (k, v) in input_vars.items():\n",
    "    # save input data as binary files\n",
    "    newFile = open(f\"{input_path}{v}.init\", \"wb\")\n",
    "    newFile.write(bytes(new_ds[k].values.astype('>f8')))\n",
    "    newFile.close()\n",
    "\n",
    "checklist_name = f\"{input_path}checklist.txt\"\n",
    "if not(os.path.exists(checklist_name)):\n",
    "    f = open(checklist_name, \"w\")\n",
    "    f.write(checklist())\n",
    "    f.close()\n",
    "else:\n",
    "    print(\" (Checklist file already exists!)\")\n",
    "\n",
    "os.system(f\"cp ./restart_with_higher_bottom-kappa.ipynb {input_path}\");"
   ]
  },
  {
   "cell_type": "code",
   "execution_count": null,
   "metadata": {},
   "outputs": [],
   "source": []
  }
 ],
 "metadata": {
  "kernelspec": {
   "display_name": "Python 3",
   "language": "python",
   "name": "python3"
  },
  "language_info": {
   "codemirror_mode": {
    "name": "ipython",
    "version": 3
   },
   "file_extension": ".py",
   "mimetype": "text/x-python",
   "name": "python",
   "nbconvert_exporter": "python",
   "pygments_lexer": "ipython3",
   "version": "3.8.8"
  }
 },
 "nbformat": 4,
 "nbformat_minor": 4
}
