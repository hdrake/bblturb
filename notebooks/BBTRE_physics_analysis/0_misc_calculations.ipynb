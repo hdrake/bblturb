{
 "cells": [
  {
   "cell_type": "code",
   "execution_count": 1,
   "metadata": {},
   "outputs": [],
   "source": [
    "import numpy as np\n",
    "\n",
    "from bbl import *\n",
    "from sloped_MITgcm import *"
   ]
  },
  {
   "cell_type": "code",
   "execution_count": 2,
   "metadata": {},
   "outputs": [
    {
     "name": "stdout",
     "output_type": "stream",
     "text": [
      "N =  0.0013 1/s\n"
     ]
    }
   ],
   "source": [
    "Γ = 0.0008613659531090722\n",
    "N = np.sqrt(g*α*Γ)\n",
    "print(\"N = \", N, \"1/s\")\n",
    "θ = 1.26E-3\n",
    "f = 5.3e-5\n",
    "σ = 1.\n",
    "H = 2700.\n",
    "\n",
    "h = 230\n",
    "k0 = 5.2e-5\n",
    "k1 = 1.8e-3\n",
    "\n",
    "dx = 600.\n",
    "delta_t = 15."
   ]
  },
  {
   "cell_type": "code",
   "execution_count": 3,
   "metadata": {},
   "outputs": [
    {
     "data": {
      "text/plain": [
       "0.0009551608543027141"
      ]
     },
     "execution_count": 3,
     "metadata": {},
     "output_type": "execute_result"
    }
   ],
   "source": [
    "calc_S(N, θ, f)"
   ]
  },
  {
   "cell_type": "code",
   "execution_count": 32,
   "metadata": {},
   "outputs": [
    {
     "name": "stdout",
     "output_type": "stream",
     "text": [
      "h_BBL = 1/q = 8.2 m\n"
     ]
    }
   ],
   "source": [
    "q = calc_q(N, θ, f, k1, σ=σ)\n",
    "print(\"h_BBL = 1/q =\", round(1./q, 1), \"m\")"
   ]
  },
  {
   "cell_type": "code",
   "execution_count": 47,
   "metadata": {},
   "outputs": [
    {
     "name": "stdout",
     "output_type": "stream",
     "text": [
      "τ_BBL = 1/(q^2 * κ_BOT) = 0.44 days\n"
     ]
    }
   ],
   "source": [
    "print(\"τ_BBL = 1/(q^2 * κ_BOT) =\", round(((q**2 * k1)**-1)/86400, 2), \"days\")"
   ]
  },
  {
   "cell_type": "code",
   "execution_count": 44,
   "metadata": {},
   "outputs": [
    {
     "name": "stdout",
     "output_type": "stream",
     "text": [
      "τ_INT = H^2 / κ_INT = 46875.0 days\n"
     ]
    }
   ],
   "source": [
    "print(\"τ_INT = H^2 / κ_INT =\", round((H**2 / k1)/86400, 2), \"days\")"
   ]
  },
  {
   "cell_type": "code",
   "execution_count": null,
   "metadata": {},
   "outputs": [],
   "source": []
  }
 ],
 "metadata": {
  "kernelspec": {
   "display_name": "Python 3",
   "language": "python",
   "name": "python3"
  },
  "language_info": {
   "codemirror_mode": {
    "name": "ipython",
    "version": 3
   },
   "file_extension": ".py",
   "mimetype": "text/x-python",
   "name": "python",
   "nbconvert_exporter": "python",
   "pygments_lexer": "ipython3",
   "version": "3.9.2"
  }
 },
 "nbformat": 4,
 "nbformat_minor": 4
}
