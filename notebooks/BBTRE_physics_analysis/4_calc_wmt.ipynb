{
 "cells": [
  {
   "cell_type": "code",
   "execution_count": 1,
   "metadata": {},
   "outputs": [],
   "source": [
    "%load_ext autoreload\n",
    "%autoreload 2"
   ]
  },
  {
   "cell_type": "code",
   "execution_count": 2,
   "metadata": {},
   "outputs": [],
   "source": [
    "import xarray as xr\n",
    "import numpy as np\n",
    "from xhistogram.xarray import histogram\n",
    "from xmitgcm import open_mdsdataset\n",
    "\n",
    "from osse import *\n",
    "from sloped_MITgcm import *\n",
    "from canyon_utils import *\n",
    "from wmt import *"
   ]
  },
  {
   "cell_type": "markdown",
   "metadata": {},
   "source": [
    "#### Constant parameters"
   ]
  },
  {
   "cell_type": "code",
   "execution_count": 3,
   "metadata": {},
   "outputs": [],
   "source": [
    "Γ = 0.0008613659531090722\n",
    "N = np.sqrt(g*α*Γ)\n",
    "θ = 1.26E-3\n",
    "f = -5.3e-5\n",
    "\n",
    "h = 230\n",
    "k0 = 5.2e-5\n",
    "k1 = 1.8e-3\n",
    "\n",
    "dx = 600.; dy = dx\n",
    "delta_t = 15."
   ]
  },
  {
   "cell_type": "markdown",
   "metadata": {},
   "source": [
    "#### Plot WMTs"
   ]
  },
  {
   "cell_type": "code",
   "execution_count": 4,
   "metadata": {},
   "outputs": [],
   "source": [
    "data_dir = f\"../../MITgcm/experiments/rotated_BBTRE_canyon-tracer/run/\"\n",
    "\n",
    "ds = open_mdsdataset(data_dir,ignore_unknown_vars=True,prefix=[\"budgetDiag\"], delta_t=delta_t)\n",
    "ds = ds.sel(time=ds['time'][20:][::20])\n",
    "#ds = ds.isel(time=[-2, -1]) # COMMENT OUT IN PRODUCTION\n",
    "ds = add_thalweg(ds)\n",
    "\n",
    "extend_multiples = [-5, 1]\n",
    "Lx = dx*ds.XC.size\n",
    "ds = periodic_extend(ds, ['XC', 'XG'], Lx, extend_multiples)\n",
    "ds, grid = add_rotated_coords(ds, θ)\n",
    "\n",
    "ds['THETA_BG_C'] = Γ*ds['Zr']\n",
    "ds['θ'] = ds['THETA'] + ds['THETA_BG_C']\n",
    "ds['θ'] = ds['θ'].where(ds['hFacC'] != 0)\n",
    "ds = add_temp_budget(ds, grid, Γ, θ)\n",
    "ds = add_hab_coordinates(ds, grid, vert_coord='Z', gridface='C')\n",
    "\n",
    "ds['days'] = ds['time'].astype('float64')/(86400.*1e9) - 1250."
   ]
  },
  {
   "cell_type": "code",
   "execution_count": 5,
   "metadata": {},
   "outputs": [],
   "source": [
    "Lx, Ly = ds.XC.size*dx, ds.YC.size*dy\n",
    "cint = k0*Γ*np.cos(θ)*Ly*Lx\n",
    "cbot = k1*Γ*np.cos(θ)*Ly*Lx"
   ]
  },
  {
   "cell_type": "code",
   "execution_count": 6,
   "metadata": {},
   "outputs": [],
   "source": [
    "dθ = 0.05\n",
    "θmax = 1.\n",
    "θmin = 0.\n",
    "Δθ = θmax - θmin\n",
    "θlevs = np.arange(θmin-dθ, θmax+dθ, dθ)\n",
    "\n",
    "dz = 5.\n",
    "hlevs = np.append( np.arange(-dz/2, 200.-dz, dz), np.arange(200., 1000.+dz*5, dz*5) )"
   ]
  },
  {
   "cell_type": "code",
   "execution_count": 7,
   "metadata": {},
   "outputs": [],
   "source": [
    "ds_regions = {}\n",
    "ds_regions['total'] = ds[['θ', 'diff_tendency_TH']]\n",
    "ds_regions['canyon'] = irregular_section(ds[['θ', 'diff_tendency_TH']], ds['j_thalweg'].values, width=5)\n",
    "ds_regions['outside'] = irregular_section(ds[['θ', 'diff_tendency_TH']], ds['j_thalweg'].values, width=21, invert_mask=True)\n",
    "ds_regions['flanks'] = ds[['θ', 'diff_tendency_TH']].where((np.isnan(ds_regions['canyon'])) & (np.isnan(ds_regions['outside'])))"
   ]
  },
  {
   "cell_type": "code",
   "execution_count": 8,
   "metadata": {},
   "outputs": [
    {
     "name": "stdout",
     "output_type": "stream",
     "text": [
      "total\n"
     ]
    },
    {
     "name": "stderr",
     "output_type": "stream",
     "text": [
      "/home/hdrake/.conda/envs/bblturb-analysis/lib/python3.8/site-packages/dask/core.py:121: RuntimeWarning: invalid value encountered in true_divide\n",
      "  return func(*(_execute_task(a, cache) for a in args))\n",
      "/home/hdrake/.conda/envs/bblturb-analysis/lib/python3.8/site-packages/dask/core.py:121: RuntimeWarning: invalid value encountered in true_divide\n",
      "  return func(*(_execute_task(a, cache) for a in args))\n",
      "/home/hdrake/.conda/envs/bblturb-analysis/lib/python3.8/site-packages/dask/core.py:121: RuntimeWarning: invalid value encountered in true_divide\n",
      "  return func(*(_execute_task(a, cache) for a in args))\n",
      "/home/hdrake/.conda/envs/bblturb-analysis/lib/python3.8/site-packages/dask/core.py:121: RuntimeWarning: invalid value encountered in less_equal\n",
      "  return func(*(_execute_task(a, cache) for a in args))\n",
      "/home/hdrake/.conda/envs/bblturb-analysis/lib/python3.8/site-packages/dask/core.py:121: RuntimeWarning: invalid value encountered in true_divide\n",
      "  return func(*(_execute_task(a, cache) for a in args))\n",
      "/home/hdrake/.conda/envs/bblturb-analysis/lib/python3.8/site-packages/dask/core.py:121: RuntimeWarning: invalid value encountered in greater\n",
      "  return func(*(_execute_task(a, cache) for a in args))\n"
     ]
    },
    {
     "name": "stdout",
     "output_type": "stream",
     "text": [
      "canyon\n"
     ]
    },
    {
     "name": "stderr",
     "output_type": "stream",
     "text": [
      "/home/hdrake/.conda/envs/bblturb-analysis/lib/python3.8/site-packages/dask/core.py:121: RuntimeWarning: invalid value encountered in true_divide\n",
      "  return func(*(_execute_task(a, cache) for a in args))\n",
      "/home/hdrake/.conda/envs/bblturb-analysis/lib/python3.8/site-packages/dask/core.py:121: RuntimeWarning: invalid value encountered in true_divide\n",
      "  return func(*(_execute_task(a, cache) for a in args))\n",
      "/home/hdrake/.conda/envs/bblturb-analysis/lib/python3.8/site-packages/dask/core.py:121: RuntimeWarning: invalid value encountered in true_divide\n",
      "  return func(*(_execute_task(a, cache) for a in args))\n",
      "/home/hdrake/.conda/envs/bblturb-analysis/lib/python3.8/site-packages/dask/core.py:121: RuntimeWarning: invalid value encountered in true_divide\n",
      "  return func(*(_execute_task(a, cache) for a in args))\n",
      "/home/hdrake/.conda/envs/bblturb-analysis/lib/python3.8/site-packages/dask/core.py:121: RuntimeWarning: invalid value encountered in less_equal\n",
      "  return func(*(_execute_task(a, cache) for a in args))\n",
      "/home/hdrake/.conda/envs/bblturb-analysis/lib/python3.8/site-packages/dask/core.py:121: RuntimeWarning: invalid value encountered in greater\n",
      "  return func(*(_execute_task(a, cache) for a in args))\n"
     ]
    },
    {
     "name": "stdout",
     "output_type": "stream",
     "text": [
      "outside\n"
     ]
    },
    {
     "name": "stderr",
     "output_type": "stream",
     "text": [
      "/home/hdrake/.conda/envs/bblturb-analysis/lib/python3.8/site-packages/dask/core.py:121: RuntimeWarning: invalid value encountered in true_divide\n",
      "  return func(*(_execute_task(a, cache) for a in args))\n",
      "/home/hdrake/.conda/envs/bblturb-analysis/lib/python3.8/site-packages/dask/core.py:121: RuntimeWarning: invalid value encountered in true_divide\n",
      "  return func(*(_execute_task(a, cache) for a in args))\n",
      "/home/hdrake/.conda/envs/bblturb-analysis/lib/python3.8/site-packages/dask/core.py:121: RuntimeWarning: invalid value encountered in true_divide\n",
      "  return func(*(_execute_task(a, cache) for a in args))\n",
      "/home/hdrake/.conda/envs/bblturb-analysis/lib/python3.8/site-packages/dask/core.py:121: RuntimeWarning: invalid value encountered in less_equal\n",
      "  return func(*(_execute_task(a, cache) for a in args))\n",
      "/home/hdrake/.conda/envs/bblturb-analysis/lib/python3.8/site-packages/dask/core.py:121: RuntimeWarning: invalid value encountered in greater\n",
      "  return func(*(_execute_task(a, cache) for a in args))\n",
      "/home/hdrake/.conda/envs/bblturb-analysis/lib/python3.8/site-packages/dask/core.py:121: RuntimeWarning: invalid value encountered in true_divide\n",
      "  return func(*(_execute_task(a, cache) for a in args))\n"
     ]
    },
    {
     "name": "stdout",
     "output_type": "stream",
     "text": [
      "flanks\n"
     ]
    },
    {
     "name": "stderr",
     "output_type": "stream",
     "text": [
      "/home/hdrake/.conda/envs/bblturb-analysis/lib/python3.8/site-packages/dask/core.py:121: RuntimeWarning: invalid value encountered in true_divide\n",
      "  return func(*(_execute_task(a, cache) for a in args))\n",
      "/home/hdrake/.conda/envs/bblturb-analysis/lib/python3.8/site-packages/dask/core.py:121: RuntimeWarning: invalid value encountered in true_divide\n",
      "  return func(*(_execute_task(a, cache) for a in args))\n",
      "/home/hdrake/.conda/envs/bblturb-analysis/lib/python3.8/site-packages/dask/core.py:121: RuntimeWarning: invalid value encountered in true_divide\n",
      "  return func(*(_execute_task(a, cache) for a in args))\n",
      "/home/hdrake/.conda/envs/bblturb-analysis/lib/python3.8/site-packages/dask/core.py:121: RuntimeWarning: invalid value encountered in true_divide\n",
      "  return func(*(_execute_task(a, cache) for a in args))\n",
      "/home/hdrake/.conda/envs/bblturb-analysis/lib/python3.8/site-packages/dask/core.py:121: RuntimeWarning: invalid value encountered in less_equal\n",
      "  return func(*(_execute_task(a, cache) for a in args))\n",
      "/home/hdrake/.conda/envs/bblturb-analysis/lib/python3.8/site-packages/dask/core.py:121: RuntimeWarning: invalid value encountered in greater\n",
      "  return func(*(_execute_task(a, cache) for a in args))\n"
     ]
    }
   ],
   "source": [
    "wmt_dict = {}\n",
    "for label, d in ds_regions.items():\n",
    "    print(label, end='\\n')\n",
    "    \n",
    "    wmt_dict[label] = xr.Dataset()\n",
    "    wmt_dict[label]['mask'] = ~np.isnan(d['θ'].isel(time=-1, Z=0)).load()\n",
    "    wmt_dict[label].attrs['area'] = (wmt_dict[label]['mask'].sum(skipna=True)*dx*dy).values\n",
    "    \n",
    "    mixing = d['diff_tendency_TH'].fillna(0.)\n",
    "\n",
    "    wmt_dict[label]['E_net'] = histogram(\n",
    "        d['θ'],\n",
    "        bins=[θlevs],\n",
    "        weights=mixing,\n",
    "        dim=('XC', 'YC', 'Z',)\n",
    "    ).load()/dθ;\n",
    "\n",
    "    wmt_dict[label]['E_BBL'] = histogram(\n",
    "        d['θ'],\n",
    "        bins=[θlevs],\n",
    "        weights=mixing.where(mixing > 0., 0.),\n",
    "        dim=('XC', 'YC', 'Z',)\n",
    "    ).load()/dθ;\n",
    "\n",
    "    wmt_dict[label]['E_SML'] = histogram(\n",
    "        d['θ'],\n",
    "        bins=[θlevs],\n",
    "        weights=mixing.where(mixing < 0., 0.),\n",
    "        dim=('XC', 'YC', 'Z',)\n",
    "    ).load()/dθ;\n",
    "    \n",
    "    wmt_dict[label]['E_hab'] = histogram(\n",
    "        d['Z_habC'].broadcast_like(d[\"θ\"]),\n",
    "        bins=[hlevs],\n",
    "        weights=mixing.where((d[\"θ\"] > 0.) & (d[\"θ\"] <= 1.), 0.),\n",
    "        dim=('XC', 'YC', 'Z',)\n",
    "    ).load()/Δθ;\n",
    "    \n",
    "    dhab = np.diff(hlevs)\n",
    "    wmt_dict[label][\"dZ_habC_bin\"] = xr.DataArray(dhab, coords={\"Z_habC_bin\": wmt_dict[label][\"Z_habC_bin\"].values}, dims=\"Z_habC_bin\")"
   ]
  },
  {
   "cell_type": "markdown",
   "metadata": {},
   "source": [
    "#### Save WMT calculations"
   ]
  },
  {
   "cell_type": "code",
   "execution_count": 9,
   "metadata": {},
   "outputs": [],
   "source": [
    "for k,v in wmt_dict.items():\n",
    "    saving = v.copy()\n",
    "    saving.to_netcdf(f\"../../data/BBTRE-physics/wmt_{k}.nc\", mode='w')"
   ]
  },
  {
   "cell_type": "code",
   "execution_count": 15,
   "metadata": {},
   "outputs": [
    {
     "data": {
      "text/plain": [
       "'flanks'"
      ]
     },
     "execution_count": 15,
     "metadata": {},
     "output_type": "execute_result"
    }
   ],
   "source": []
  },
  {
   "cell_type": "code",
   "execution_count": null,
   "metadata": {},
   "outputs": [],
   "source": []
  }
 ],
 "metadata": {
  "kernelspec": {
   "display_name": "Python 3",
   "language": "python",
   "name": "python3"
  },
  "language_info": {
   "codemirror_mode": {
    "name": "ipython",
    "version": 3
   },
   "file_extension": ".py",
   "mimetype": "text/x-python",
   "name": "python",
   "nbconvert_exporter": "python",
   "pygments_lexer": "ipython3",
   "version": "3.9.2"
  }
 },
 "nbformat": 4,
 "nbformat_minor": 4
}
