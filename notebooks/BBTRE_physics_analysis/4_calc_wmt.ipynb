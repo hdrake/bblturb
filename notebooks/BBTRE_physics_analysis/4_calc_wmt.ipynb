{
 "cells": [
  {
   "cell_type": "code",
   "execution_count": 10,
   "metadata": {},
   "outputs": [
    {
     "name": "stdout",
     "output_type": "stream",
     "text": [
      "The autoreload extension is already loaded. To reload it, use:\n",
      "  %reload_ext autoreload\n"
     ]
    }
   ],
   "source": [
    "%load_ext autoreload\n",
    "%autoreload 2"
   ]
  },
  {
   "cell_type": "code",
   "execution_count": 11,
   "metadata": {},
   "outputs": [],
   "source": [
    "import xarray as xr\n",
    "import numpy as np\n",
    "from xhistogram.xarray import histogram\n",
    "from xmitgcm import open_mdsdataset\n",
    "\n",
    "from osse import *\n",
    "from sloped_MITgcm import *\n",
    "from canyon_utils import *"
   ]
  },
  {
   "cell_type": "markdown",
   "metadata": {},
   "source": [
    "#### Constant parameters"
   ]
  },
  {
   "cell_type": "code",
   "execution_count": 12,
   "metadata": {},
   "outputs": [],
   "source": [
    "Γ = 0.0008613659531090722\n",
    "N = np.sqrt(g*α*Γ)\n",
    "θ = 1.26E-3\n",
    "f = -5.3e-5\n",
    "\n",
    "h = 230\n",
    "k0 = 5.2e-5\n",
    "k1 = 1.8e-3\n",
    "\n",
    "dx = 600.; dy = dx\n",
    "delta_t = 15."
   ]
  },
  {
   "cell_type": "markdown",
   "metadata": {},
   "source": [
    "#### Plot WMTs"
   ]
  },
  {
   "cell_type": "code",
   "execution_count": 13,
   "metadata": {},
   "outputs": [],
   "source": [
    "data_dir = f\"../../MITgcm/experiments/rotated_BBTRE_canyon-tracer/run/\"\n",
    "\n",
    "ds = open_mdsdataset(data_dir,ignore_unknown_vars=True,prefix=[\"budgetDiag\"], delta_t=delta_t)\n",
    "ds = ds.sel(time=ds['time'][20:][::20])\n",
    "ds = add_thalweg(ds)\n",
    "\n",
    "extend_multiples = [-5, 1]\n",
    "ds = periodic_extend(ds, ['XC', 'XG'], dx, extend_multiples)\n",
    "ds, grid = add_rotated_coords(ds, θ)\n",
    "\n",
    "ds['THETA_BG_C'] = Γ*ds['Zr']\n",
    "ds['θ'] = ds['THETA'] + ds['THETA_BG_C']\n",
    "ds['θ'] = ds['θ'].where(ds['hFacC'] != 0)\n",
    "ds = add_temp_budget(ds, grid, Γ, θ)\n",
    "\n",
    "ds['days'] = ds['time'].astype('float64')/(86400.*1e9) - 1250."
   ]
  },
  {
   "cell_type": "code",
   "execution_count": 14,
   "metadata": {},
   "outputs": [],
   "source": [
    "Lx, Ly = ds.XC.size*dx, ds.YC.size*dy\n",
    "cint = k0*Γ*np.cos(θ)*Ly*Lx\n",
    "cbot = k1*Γ*np.cos(θ)*Ly*Lx"
   ]
  },
  {
   "cell_type": "code",
   "execution_count": 15,
   "metadata": {},
   "outputs": [],
   "source": [
    "dθ = 0.05\n",
    "θlevs = np.arange(0.-dθ, 1.+dθ, dθ)"
   ]
  },
  {
   "cell_type": "code",
   "execution_count": 16,
   "metadata": {},
   "outputs": [],
   "source": [
    "ds_regions = {}\n",
    "ds_regions['total'] = ds[['θ', 'diff_tendency_TH']]\n",
    "ds_regions['canyon'] = irregular_section(ds[['θ', 'diff_tendency_TH']], ds['j_thalweg'].values, width=5)\n",
    "ds_regions['outside'] = irregular_section(ds[['θ', 'diff_tendency_TH']], ds['j_thalweg'].values, width=21, invert_mask=True)\n",
    "ds_regions['flanks'] = ds[['θ', 'diff_tendency_TH']].where((np.isnan(ds_regions['canyon'])) & (np.isnan(ds_regions['outside'])))"
   ]
  },
  {
   "cell_type": "code",
   "execution_count": 17,
   "metadata": {},
   "outputs": [
    {
     "name": "stdout",
     "output_type": "stream",
     "text": [
      "total\n"
     ]
    },
    {
     "name": "stderr",
     "output_type": "stream",
     "text": [
      "/home/hdrake/.conda/envs/bblturb-analysis/lib/python3.8/site-packages/dask/core.py:121: RuntimeWarning: invalid value encountered in true_divide\n",
      "  return func(*(_execute_task(a, cache) for a in args))\n",
      "/home/hdrake/.conda/envs/bblturb-analysis/lib/python3.8/site-packages/dask/core.py:121: RuntimeWarning: invalid value encountered in true_divide\n",
      "  return func(*(_execute_task(a, cache) for a in args))\n",
      "/home/hdrake/.conda/envs/bblturb-analysis/lib/python3.8/site-packages/dask/core.py:121: RuntimeWarning: invalid value encountered in true_divide\n",
      "  return func(*(_execute_task(a, cache) for a in args))\n"
     ]
    },
    {
     "name": "stdout",
     "output_type": "stream",
     "text": [
      "canyon\n"
     ]
    },
    {
     "name": "stderr",
     "output_type": "stream",
     "text": [
      "/home/hdrake/.conda/envs/bblturb-analysis/lib/python3.8/site-packages/dask/core.py:121: RuntimeWarning: invalid value encountered in true_divide\n",
      "  return func(*(_execute_task(a, cache) for a in args))\n",
      "/home/hdrake/.conda/envs/bblturb-analysis/lib/python3.8/site-packages/dask/core.py:121: RuntimeWarning: invalid value encountered in true_divide\n",
      "  return func(*(_execute_task(a, cache) for a in args))\n",
      "/home/hdrake/.conda/envs/bblturb-analysis/lib/python3.8/site-packages/dask/core.py:121: RuntimeWarning: invalid value encountered in true_divide\n",
      "  return func(*(_execute_task(a, cache) for a in args))\n"
     ]
    },
    {
     "name": "stdout",
     "output_type": "stream",
     "text": [
      "outside\n"
     ]
    },
    {
     "name": "stderr",
     "output_type": "stream",
     "text": [
      "/home/hdrake/.conda/envs/bblturb-analysis/lib/python3.8/site-packages/dask/core.py:121: RuntimeWarning: invalid value encountered in true_divide\n",
      "  return func(*(_execute_task(a, cache) for a in args))\n",
      "/home/hdrake/.conda/envs/bblturb-analysis/lib/python3.8/site-packages/dask/core.py:121: RuntimeWarning: invalid value encountered in true_divide\n",
      "  return func(*(_execute_task(a, cache) for a in args))\n",
      "/home/hdrake/.conda/envs/bblturb-analysis/lib/python3.8/site-packages/dask/core.py:121: RuntimeWarning: invalid value encountered in true_divide\n",
      "  return func(*(_execute_task(a, cache) for a in args))\n"
     ]
    },
    {
     "name": "stdout",
     "output_type": "stream",
     "text": [
      "flanks\n"
     ]
    },
    {
     "name": "stderr",
     "output_type": "stream",
     "text": [
      "/home/hdrake/.conda/envs/bblturb-analysis/lib/python3.8/site-packages/dask/core.py:121: RuntimeWarning: invalid value encountered in true_divide\n",
      "  return func(*(_execute_task(a, cache) for a in args))\n",
      "/home/hdrake/.conda/envs/bblturb-analysis/lib/python3.8/site-packages/dask/core.py:121: RuntimeWarning: invalid value encountered in true_divide\n",
      "  return func(*(_execute_task(a, cache) for a in args))\n",
      "/home/hdrake/.conda/envs/bblturb-analysis/lib/python3.8/site-packages/dask/core.py:121: RuntimeWarning: invalid value encountered in true_divide\n",
      "  return func(*(_execute_task(a, cache) for a in args))\n"
     ]
    }
   ],
   "source": [
    "wmt_dict = {}\n",
    "for label, d in ds_regions.items():\n",
    "    print(label, end='\\n')\n",
    "    \n",
    "    wmt_dict[label] = xr.Dataset()\n",
    "    wmt_dict[label]['mask'] = ~np.isnan(d['θ'].isel(time=-1, Z=0)).load()\n",
    "    wmt_dict[label].attrs['area'] = (wmt_dict[label]['mask'].sum(skipna=True)*dx*dy).values\n",
    "    \n",
    "    mixing = d['diff_tendency_TH'].fillna(0.)\n",
    "\n",
    "    wmt_dict[label]['E_net'] = histogram(\n",
    "        d['θ'],\n",
    "        bins=[θlevs],\n",
    "        weights=mixing,\n",
    "        dim=('XC', 'YC', 'Z',)\n",
    "    ).load()/dθ;\n",
    "\n",
    "    wmt_dict[label]['E_BBL'] = histogram(\n",
    "        d['θ'],\n",
    "        bins=[θlevs],\n",
    "        weights=mixing.where(mixing > 0., 0.),\n",
    "        dim=('XC', 'YC', 'Z',)\n",
    "    ).load()/dθ;\n",
    "\n",
    "    wmt_dict[label]['E_SML'] = histogram(\n",
    "        d['θ'],\n",
    "        bins=[θlevs],\n",
    "        weights=mixing.where(mixing < 0., 0.),\n",
    "        dim=('XC', 'YC', 'Z',)\n",
    "    ).load()/dθ;"
   ]
  },
  {
   "cell_type": "markdown",
   "metadata": {},
   "source": [
    "#### Save WMT calculations"
   ]
  },
  {
   "cell_type": "code",
   "execution_count": 18,
   "metadata": {},
   "outputs": [],
   "source": [
    "for k,v in wmt_dict.items():\n",
    "    saving = v.copy()\n",
    "    saving.to_netcdf(f\"../../data/BBTRE-physics/wmt_{k}.nc\", mode='w')"
   ]
  },
  {
   "cell_type": "code",
   "execution_count": null,
   "metadata": {},
   "outputs": [],
   "source": []
  }
 ],
 "metadata": {
  "kernelspec": {
   "display_name": "Python 3",
   "language": "python",
   "name": "python3"
  },
  "language_info": {
   "codemirror_mode": {
    "name": "ipython",
    "version": 3
   },
   "file_extension": ".py",
   "mimetype": "text/x-python",
   "name": "python",
   "nbconvert_exporter": "python",
   "pygments_lexer": "ipython3",
   "version": "3.8.1"
  }
 },
 "nbformat": 4,
 "nbformat_minor": 4
}
