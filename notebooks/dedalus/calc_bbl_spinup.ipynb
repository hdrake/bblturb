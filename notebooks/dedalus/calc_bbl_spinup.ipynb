{
 "cells": [
  {
   "cell_type": "markdown",
   "metadata": {},
   "source": [
    "# Solving the Phillips-Wunsch-Garrett IVP with non-constant coefficients using Dedalus"
   ]
  },
  {
   "cell_type": "code",
   "execution_count": 4,
   "metadata": {},
   "outputs": [],
   "source": [
    "%matplotlib inline\n",
    "import numpy as np\n",
    "import matplotlib.pyplot as plt\n",
    "import h5py\n",
    "from dedalus import public as de\n",
    "from dedalus.extras import flow_tools\n",
    "from dedalus.extras import plot_tools\n",
    "from dedalus.tools import post\n",
    "import pathlib\n",
    "import time\n",
    "from IPython import display\n",
    "\n",
    "import logging\n",
    "root = logging.root\n",
    "for h in root.handlers:\n",
    "    h.setLevel(\"INFO\")\n",
    "\n",
    "logger = logging.getLogger(__name__)"
   ]
  },
  {
   "cell_type": "markdown",
   "metadata": {},
   "source": [
    "# Problem formulation\n",
    "\n",
    "### Physical parameters"
   ]
  },
  {
   "cell_type": "code",
   "execution_count": 5,
   "metadata": {},
   "outputs": [],
   "source": [
    "N = 1.3e-3\n",
    "f = 0.53e-4\n",
    "\n",
    "# topographic parameters\n",
    "slopeAngle = 2.e-3\n",
    "tht = slopeAngle\n",
    "\n",
    "# mixing parameters\n",
    "d = 230\n",
    "k0 = 5.2e-5\n",
    "k1 = 1.8e-3\n",
    "Pr = 1"
   ]
  },
  {
   "cell_type": "code",
   "execution_count": 6,
   "metadata": {},
   "outputs": [],
   "source": [
    "def calc_delta():\n",
    "    return ((4*Pr**2*(k0+k1)**2) / (f**2*np.cos(tht)**2 * (1 + (N**2*np.tan(tht)**2/(f**2))*Pr)))**0.25"
   ]
  },
  {
   "cell_type": "code",
   "execution_count": 9,
   "metadata": {},
   "outputs": [
    {
     "name": "stdout",
     "output_type": "stream",
     "text": [
      "2020-02-25 13:20:49,502 pencil 0/1 INFO :: Building pencil matrix 1/1 (~100%) Elapsed: 0s, Remaining: 0s, Rate: 1.0e+01/s\n",
      "Years: \n",
      "1.0, 2.0, 3.0, 4.0, 5.0, 6.0, 7.0, 8.0, 9.0, 10.0, 11.0, 12.0, 13.0, 14.0, 15.0, 16.0, 17.0, 18.0, 19.0, 20.0, 21.0, 22.0, 23.0, 24.0, 25.0, 26.0, 27.0, 28.0, 29.0, 30.0, 31.0, 32.0, 33.0, 34.0, 35.0, 36.0, 37.0, 38.0, 39.0, 40.0, 41.0, 42.0, 43.0, 44.0, 45.0, 46.0, 47.0, 48.0, 49.0, 50.0, 51.0, 52.0, 53.0, 54.0, 55.0, 56.0, 57.0, 58.0, 59.0, 60.0, 61.0, 62.0, 63.0, 64.0, 65.0, 66.0, 67.0, 68.0, 69.0, 70.0, 71.0, 72.0, 73.0, 74.0, 75.0, 76.0, 77.0, 78.0, 79.0, 80.0, 2020-02-25 13:20:52,552 solvers 0/1 INFO :: Simulation stop time reached.\n",
      "Runtime: 3.041898488998413\n"
     ]
    }
   ],
   "source": [
    "#===== Set up domain =====\n",
    "# Create basis and domain for all experiments\n",
    "Lz = 4000\n",
    "nz = 512\n",
    "z_basis = de.Chebyshev('z', nz, interval=(0, Lz), dealias=3/2)\n",
    "domain = de.Domain([z_basis],np.float64)\n",
    "z = domain.grid(0)\n",
    "\n",
    "#===== Set up Problem ======\n",
    "problem = de.IVP(domain, variables=['u', 'v', 'b', 'uz', 'vz', 'bz']);\n",
    "\n",
    "# Set parameters\n",
    "problem.parameters['f'] = f\n",
    "problem.parameters['tht'] = tht # set in loop\n",
    "problem.parameters['N'] = N\n",
    "k = domain.new_field(name='k')\n",
    "k['g'] = k0+k1*np.exp(-z/d)\n",
    "problem.parameters['k'] = k\n",
    "\n",
    "nu = domain.new_field(name='nu')\n",
    "nu['g'] = (k0+k1*np.exp(-z/d))*Pr\n",
    "problem.parameters['nu'] = nu\n",
    "\n",
    "# Main equations\n",
    "problem.add_equation(\"-f*cos(tht)*v - sin(tht)*b - dz(nu*uz) = 0\")\n",
    "problem.add_equation(\"f*u*cos(tht) - dz(nu*vz) = 0\")\n",
    "problem.add_equation(\"dt(b) + N**2*sin(tht)*u - dz(k*bz) = N**2*cos(tht)*dz(k)\")\n",
    "\n",
    "# Auxiliary equations defining the first-order reduction\n",
    "problem.add_equation(\"uz - dz(u) = 0\")\n",
    "problem.add_equation(\"vz - dz(v) = 0\")\n",
    "problem.add_equation(\"bz - dz(b) = 0\")\n",
    "\n",
    "# Boundary conditions\n",
    "problem.add_bc('left(u) = 0')\n",
    "problem.add_bc('left(v) = 0')\n",
    "problem.add_bc('left(bz) = - N**2*cos(tht)')\n",
    "problem.add_bc('right(uz) = 0')\n",
    "problem.add_bc('right(vz) = 0')\n",
    "problem.add_bc('right(bz) = 0')\n",
    "\n",
    "# Set solver for IVP\n",
    "solver = problem.build_solver(de.timesteppers.RK443);\n",
    "\n",
    "#==== Set initial conditions ====\n",
    "# Reference local grid and state fields\n",
    "z = domain.grid(0)\n",
    "u = solver.state['u']\n",
    "v = solver.state['v']\n",
    "b = solver.state['b']\n",
    "uz = solver.state['uz']\n",
    "vz = solver.state['vz']\n",
    "bz = solver.state['bz']\n",
    "\n",
    "# State from a state of rest\n",
    "u['g'] = np.zeros_like(z)\n",
    "v['g'] = np.zeros_like(z)\n",
    "b['g'] = np.zeros_like(z)\n",
    "u.differentiate('z', out=uz)\n",
    "v.differentiate('z', out=vz)\n",
    "b.differentiate('z', out=bz)\n",
    "\n",
    "\n",
    "#==== Create analysis files ====\n",
    "output_path = '../../data/dedalus/spinup'\n",
    "analysis = solver.evaluator.add_file_handler(output_path, iter=1)\n",
    "analysis.add_system(solver.state, layout='g')\n",
    "\n",
    "# Stop stopping criteria\n",
    "solver.stop_sim_time = (10.*24.*60.*60.)\n",
    "solver.stop_wall_time = np.inf\n",
    "solver.stop_iteration = np.inf\n",
    "\n",
    "# Main loop\n",
    "dt = 3.*60.*60.\n",
    "start_time = time.time()\n",
    "print('Years: ')\n",
    "while solver.ok:\n",
    "    solver.step(dt);\n",
    "    if solver.sim_time % (3.*60.*60.) == 0:\n",
    "        print(solver.sim_time/(3.*60.*60.), end=\", \")\n",
    "        \n",
    "end_time = time.time()\n",
    "print('Runtime:', end_time-start_time)\n",
    "z_da = domain.grid(0, scales=domain.dealias)"
   ]
  },
  {
   "cell_type": "code",
   "execution_count": 10,
   "metadata": {},
   "outputs": [
    {
     "name": "stdout",
     "output_type": "stream",
     "text": [
      "2020-02-25 13:21:04,589 post 0/1 INFO :: Merging files from ../../data/dedalus/spinup\n",
      "2020-02-25 13:21:04,691 post 0/1 INFO :: Creating joint file ../../data/dedalus/spinup/output.h5\n"
     ]
    }
   ],
   "source": [
    "from dedalus.tools import post\n",
    "import pathlib\n",
    "import os\n",
    "post.merge_process_files(output_path, cleanup=True)\n",
    "set_paths = list(pathlib.Path(output_path).glob(\"spinup_s*.h5\"))\n",
    "import os\n",
    "os.system(f\"rm -f {output_path}/output.h5\")\n",
    "post.merge_sets(output_path+\"/output.h5\", set_paths, cleanup=True)"
   ]
  },
  {
   "cell_type": "code",
   "execution_count": null,
   "metadata": {},
   "outputs": [],
   "source": []
  },
  {
   "cell_type": "code",
   "execution_count": null,
   "metadata": {},
   "outputs": [],
   "source": []
  }
 ],
 "metadata": {
  "kernelspec": {
   "display_name": "Python 3",
   "language": "python",
   "name": "python3"
  },
  "language_info": {
   "codemirror_mode": {
    "name": "ipython",
    "version": 3
   },
   "file_extension": ".py",
   "mimetype": "text/x-python",
   "name": "python",
   "nbconvert_exporter": "python",
   "pygments_lexer": "ipython3",
   "version": "3.8.4"
  }
 },
 "nbformat": 4,
 "nbformat_minor": 4
}
